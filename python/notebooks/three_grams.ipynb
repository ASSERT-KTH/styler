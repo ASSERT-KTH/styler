{
 "cells": [
  {
   "cell_type": "markdown",
   "metadata": {},
   "source": [
    "# Synthetic error injection\n",
    "\n",
    "## Load the 3 grams dataset"
   ]
  },
  {
   "cell_type": "code",
   "execution_count": 12,
   "metadata": {},
   "outputs": [],
   "source": [
    "import pandas as pd\n",
    "import random\n",
    "from tqdm import tqdm_notebook as tqdm"
   ]
  },
  {
   "cell_type": "code",
   "execution_count": 13,
   "metadata": {},
   "outputs": [],
   "source": [
    "import sys\n",
    "sys.path.insert(0, \"../\")"
   ]
  },
  {
   "cell_type": "code",
   "execution_count": 14,
   "metadata": {},
   "outputs": [
    {
     "data": {
      "text/html": [
       "<div>\n",
       "<style scoped>\n",
       "    .dataframe tbody tr th:only-of-type {\n",
       "        vertical-align: middle;\n",
       "    }\n",
       "\n",
       "    .dataframe tbody tr th {\n",
       "        vertical-align: top;\n",
       "    }\n",
       "\n",
       "    .dataframe thead th {\n",
       "        text-align: right;\n",
       "    }\n",
       "</style>\n",
       "<table border=\"1\" class=\"dataframe\">\n",
       "  <thead>\n",
       "    <tr style=\"text-align: right;\">\n",
       "      <th></th>\n",
       "      <th>token_1</th>\n",
       "      <th>ws</th>\n",
       "      <th>token_2</th>\n",
       "      <th>count</th>\n",
       "    </tr>\n",
       "  </thead>\n",
       "  <tbody>\n",
       "    <tr>\n",
       "      <th>0</th>\n",
       "      <td>Comment</td>\n",
       "      <td>1_NL</td>\n",
       "      <td>Comment</td>\n",
       "      <td>3282</td>\n",
       "    </tr>\n",
       "    <tr>\n",
       "      <th>1</th>\n",
       "      <td>Comment</td>\n",
       "      <td>1_NL</td>\n",
       "      <td>package</td>\n",
       "      <td>492</td>\n",
       "    </tr>\n",
       "    <tr>\n",
       "      <th>2</th>\n",
       "      <td>package</td>\n",
       "      <td>1_SP</td>\n",
       "      <td>Identifier</td>\n",
       "      <td>2083</td>\n",
       "    </tr>\n",
       "    <tr>\n",
       "      <th>3</th>\n",
       "      <td>Identifier</td>\n",
       "      <td>0_SP</td>\n",
       "      <td>.</td>\n",
       "      <td>135330</td>\n",
       "    </tr>\n",
       "    <tr>\n",
       "      <th>4</th>\n",
       "      <td>.</td>\n",
       "      <td>0_SP</td>\n",
       "      <td>Identifier</td>\n",
       "      <td>146617</td>\n",
       "    </tr>\n",
       "    <tr>\n",
       "      <th>5</th>\n",
       "      <td>Identifier</td>\n",
       "      <td>0_SP</td>\n",
       "      <td>;</td>\n",
       "      <td>28148</td>\n",
       "    </tr>\n",
       "    <tr>\n",
       "      <th>6</th>\n",
       "      <td>;</td>\n",
       "      <td>1_NL</td>\n",
       "      <td>EOF</td>\n",
       "      <td>4</td>\n",
       "    </tr>\n",
       "    <tr>\n",
       "      <th>7</th>\n",
       "      <td>;</td>\n",
       "      <td>2_NL</td>\n",
       "      <td>import</td>\n",
       "      <td>2961</td>\n",
       "    </tr>\n",
       "    <tr>\n",
       "      <th>8</th>\n",
       "      <td>import</td>\n",
       "      <td>1_SP</td>\n",
       "      <td>Identifier</td>\n",
       "      <td>15630</td>\n",
       "    </tr>\n",
       "    <tr>\n",
       "      <th>9</th>\n",
       "      <td>;</td>\n",
       "      <td>1_NL</td>\n",
       "      <td>import</td>\n",
       "      <td>13795</td>\n",
       "    </tr>\n",
       "  </tbody>\n",
       "</table>\n",
       "</div>"
      ],
      "text/plain": [
       "      token_1    ws     token_2   count\n",
       "0     Comment  1_NL     Comment    3282\n",
       "1     Comment  1_NL     package     492\n",
       "2     package  1_SP  Identifier    2083\n",
       "3  Identifier  0_SP           .  135330\n",
       "4           .  0_SP  Identifier  146617\n",
       "5  Identifier  0_SP           ;   28148\n",
       "6           ;  1_NL         EOF       4\n",
       "7           ;  2_NL      import    2961\n",
       "8      import  1_SP  Identifier   15630\n",
       "9           ;  1_NL      import   13795"
      ]
     },
     "execution_count": 14,
     "metadata": {},
     "output_type": "execute_result"
    }
   ],
   "source": [
    "df = pd.read_csv('../three_grams.csv')\n",
    "df.head(10)"
   ]
  },
  {
   "cell_type": "code",
   "execution_count": 15,
   "metadata": {},
   "outputs": [],
   "source": [
    "count_df = df.loc[:,['token_1', 'token_2', 'count']].groupby(['token_1', 'token_2']).agg(['count', 'sum'])"
   ]
  },
  {
   "cell_type": "code",
   "execution_count": 16,
   "metadata": {},
   "outputs": [],
   "source": [
    "count = count_df['count']['count']\n",
    "good_for_insertion = list(count[count>=2].index)"
   ]
  },
  {
   "cell_type": "code",
   "execution_count": 17,
   "metadata": {},
   "outputs": [],
   "source": [
    "good_for_insertion_index = []\n",
    "for index, (token_1, token_2) in df.loc[:,['token_1', 'token_2']].iterrows():\n",
    "    if (token_1, token_2) in good_for_insertion:\n",
    "        good_for_insertion_index.append(index)"
   ]
  },
  {
   "cell_type": "code",
   "execution_count": 18,
   "metadata": {},
   "outputs": [],
   "source": [
    "good_for_insertion_df = df.iloc[good_for_insertion_index ,:]"
   ]
  },
  {
   "cell_type": "code",
   "execution_count": 19,
   "metadata": {},
   "outputs": [],
   "source": [
    "good_for_insertion_set = set(\n",
    "    good_for_insertion\n",
    ")\n",
    "def is_good_for_insertion(token_a, token_b):\n",
    "    return (token_a, token_b) in good_for_insertion_set"
   ]
  },
  {
   "cell_type": "code",
   "execution_count": 20,
   "metadata": {},
   "outputs": [],
   "source": [
    "def list_alternatives_with_probability(token_a, ws, token_b):\n",
    "    df_token_1 = good_for_insertion_df[good_for_insertion_df.token_1 == token_a]\n",
    "    df_token_1_and_2 = df_token_1[df_token_1.token_2 == token_b]\n",
    "    final = df_token_1_and_2[df_token_1_and_2.ws != ws]\n",
    "    total = final['count'].sum()\n",
    "    return {\n",
    "        ws:count/total\n",
    "        for _, (_, ws, _, count) in final.iterrows()\n",
    "    }"
   ]
  },
  {
   "cell_type": "code",
   "execution_count": 21,
   "metadata": {},
   "outputs": [
    {
     "data": {
      "text/plain": [
       "{'2_NL': 0.6451612903225806,\n",
       " '2_NL_4_ID': 0.13978494623655913,\n",
       " '1_NL_8_ID': 0.010752688172043012,\n",
       " '3_NL': 0.010752688172043012,\n",
       " '1_NL_16_DD': 0.010752688172043012,\n",
       " '1_NL_4_DD': 0.053763440860215055,\n",
       " '2_NL_4_DD': 0.03225806451612903,\n",
       " '1_NL_8_DD': 0.03225806451612903,\n",
       " '2_NL_8_ID': 0.010752688172043012,\n",
       " '2_NL_8_DD': 0.010752688172043012,\n",
       " '1_NL_12_ID': 0.010752688172043012,\n",
       " '1_NL_2_ID': 0.010752688172043012,\n",
       " '1_NL_50_ID': 0.021505376344086023}"
      ]
     },
     "execution_count": 21,
     "metadata": {},
     "output_type": "execute_result"
    }
   ],
   "source": [
    "list_alternatives_with_probability('Comment', '1_NL', 'Comment')"
   ]
  },
  {
   "cell_type": "markdown",
   "metadata": {},
   "source": [
    "## Generation of a new source "
   ]
  },
  {
   "cell_type": "code",
   "execution_count": 22,
   "metadata": {},
   "outputs": [],
   "source": [
    "import java_lang_utils as jlu\n",
    "from core import *"
   ]
  },
  {
   "cell_type": "code",
   "execution_count": 23,
   "metadata": {},
   "outputs": [],
   "source": [
    "from ml import get_token_value, get_space_value\n",
    "from token_utils import whitespace_token_to_tuple"
   ]
  },
  {
   "cell_type": "code",
   "execution_count": 24,
   "metadata": {},
   "outputs": [],
   "source": [
    "from Corpus import Corpus"
   ]
  },
  {
   "cell_type": "code",
   "execution_count": 25,
   "metadata": {},
   "outputs": [],
   "source": [
    "corpus = Corpus('../corpora/repairnator-corpus/', 'repairnator')"
   ]
  },
  {
   "cell_type": "code",
   "execution_count": 26,
   "metadata": {},
   "outputs": [],
   "source": [
    "tokenizer = jlu.Tokenizer()\n",
    "tokenizer_absolute = jlu.Tokenizer(relative=False)"
   ]
  },
  {
   "cell_type": "code",
   "execution_count": 27,
   "metadata": {},
   "outputs": [
    {
     "data": {
      "text/plain": [
       "'../corpora/repairnator-corpus/data/51/MavenHelper.java'"
      ]
     },
     "execution_count": 27,
     "metadata": {},
     "output_type": "execute_result"
    }
   ],
   "source": [
    "file_dir = corpus.files[10][2]\n",
    "file_dir"
   ]
  },
  {
   "cell_type": "code",
   "execution_count": 28,
   "metadata": {},
   "outputs": [],
   "source": [
    "original_source = open_file(file_dir)"
   ]
  },
  {
   "cell_type": "code",
   "execution_count": 29,
   "metadata": {},
   "outputs": [],
   "source": [
    "def pick_random(alternatives):\n",
    "    random_number = random.random()\n",
    "    probability_sum = 0\n",
    "    for alternative, probability in alternatives.items():\n",
    "        probability_sum += probability\n",
    "        if random_number <= probability_sum:\n",
    "            return alternative\n",
    "    return None"
   ]
  },
  {
   "cell_type": "code",
   "execution_count": 30,
   "metadata": {},
   "outputs": [],
   "source": [
    "def get_line_indent(line):\n",
    "    indent = 0\n",
    "    for c in line:\n",
    "        if c == ' ':\n",
    "            indent+=1\n",
    "        else:\n",
    "            return indent"
   ]
  },
  {
   "cell_type": "code",
   "execution_count": 31,
   "metadata": {},
   "outputs": [],
   "source": [
    "def modify_source(source, n_insertion=1):\n",
    "    tokenized_source = tokenizer.tokenize(source)\n",
    "    tokenized_source_absolute = tokenizer_absolute.tokenize(source)\n",
    "    insertion_spots = list(range(len(tokenized_source.tokens)-1))\n",
    "    random.shuffle(insertion_spots)\n",
    "    modification = None\n",
    "    for spot in insertion_spots:\n",
    "        token_a = tokenized_source.tokens[spot]\n",
    "        token_b = tokenized_source.tokens[spot+1]\n",
    "        ws = tokenized_source.white_spaces[spot]\n",
    "        if is_good_for_insertion(get_token_value(token_a), get_token_value(token_b)):\n",
    "            alternatives = list_alternatives_with_probability(\n",
    "                get_token_value(token_a),\n",
    "                get_space_value(ws),\n",
    "                get_token_value(token_b)\n",
    "            )\n",
    "            alternative_selected = pick_random(alternatives)\n",
    "            alternative_selected_tuple = whitespace_token_to_tuple(alternative_selected)\n",
    "            new_ws = tokenized_source_absolute.white_spaces[spot]\n",
    "            if alternative_selected_tuple[0] == 0:\n",
    "                new_ws = alternative_selected_tuple\n",
    "            elif alternative_selected_tuple[0] != 0 and new_ws[0] == 0:\n",
    "                line = token_a.position[0]\n",
    "                indent = get_line_indent(source.split('\\n')[line-1])\n",
    "                new_ws = (alternative_selected_tuple[0], indent + alternative_selected_tuple[1])\n",
    "            else:\n",
    "                new_ws = (alternative_selected_tuple[0], new_ws[1] + (alternative_selected_tuple[1] - ws[1]))\n",
    "            if new_ws[1]>=0:\n",
    "                tokenized_source_absolute.white_spaces[spot] = new_ws\n",
    "                modification = {\n",
    "                    'token_a': get_token_value(token_a),\n",
    "                    'token_b': get_token_value(token_b),\n",
    "                    'modification': (get_space_value(ws), alternative_selected),\n",
    "                    'position': spot\n",
    "                }\n",
    "                break\n",
    "    return tokenized_source_absolute.reformat(), modification"
   ]
  },
  {
   "cell_type": "code",
   "execution_count": 32,
   "metadata": {},
   "outputs": [],
   "source": [
    "t = tokenizer_absolute.tokenize(original_source)"
   ]
  },
  {
   "cell_type": "code",
   "execution_count": 33,
   "metadata": {},
   "outputs": [],
   "source": [
    "def diff(file_A, file_B, unified=True):\n",
    "    if unified:\n",
    "        cmd = 'diff -u {} {}'.format(file_A, file_B)\n",
    "    else:\n",
    "        cmd = 'diff {} {}'.format(file_A, file_B)\n",
    "    process = subprocess.Popen(cmd.split(\" \"), stdout=subprocess.PIPE)\n",
    "    output = process.communicate()[0]\n",
    "    return output.decode(\"utf-8\")"
   ]
  },
  {
   "cell_type": "code",
   "execution_count": 34,
   "metadata": {},
   "outputs": [
    {
     "name": "stdout",
     "output_type": "stream",
     "text": [
      "--- ./tmp/orig.java\t2019-10-08 22:12:05.000000000 -0400\n",
      "+++ ./tmp/modif.java\t2019-10-08 22:12:05.000000000 -0400\n",
      "@@ -51,6 +51,7 @@\n",
      "         this.pomFile = pomFile;\n",
      "         this.properties = properties;\n",
      "         this.name = name;\n",
      "+\n",
      "         this.inspector = inspector;\n",
      " \n",
      "         if (enableHandlers) {\n",
      "\n"
     ]
    }
   ],
   "source": [
    "modified_source, _ = modify_source(original_source)\n",
    "file_A = save_file('./tmp/', 'orig.java', original_source)\n",
    "file_B = save_file('./tmp/', 'modif.java', modified_source)\n",
    "print(diff(file_A, file_B))"
   ]
  },
  {
   "cell_type": "markdown",
   "metadata": {},
   "source": [
    "## Generation of errors\n",
    "\n",
    "### Batches"
   ]
  },
  {
   "cell_type": "code",
   "execution_count": 63,
   "metadata": {},
   "outputs": [],
   "source": [
    "import uuid\n",
    "import checkstyle\n",
    "import shutil"
   ]
  },
  {
   "cell_type": "code",
   "execution_count": 64,
   "metadata": {},
   "outputs": [],
   "source": [
    "corpus_name = 'dagger'"
   ]
  },
  {
   "cell_type": "code",
   "execution_count": 65,
   "metadata": {},
   "outputs": [],
   "source": [
    "corpus = Corpus(f'../corpora/{corpus_name}-corpus/', corpus_name)\n",
    "BATCH_SIZE = 1000"
   ]
  },
  {
   "cell_type": "code",
   "execution_count": 66,
   "metadata": {},
   "outputs": [],
   "source": [
    "share = {\n",
    "    'learning': 0.6,\n",
    "    'validation': 0.2,\n",
    "    'testing': 0.2\n",
    "}"
   ]
  },
  {
   "cell_type": "code",
   "execution_count": 67,
   "metadata": {},
   "outputs": [],
   "source": [
    "def split_files(corpus, share, random_state=100):\n",
    "    files_list = [file for (_,_,file) in corpus.files.values()]\n",
    "    n_files = len(files_list)\n",
    "    random.seed(random_state)\n",
    "    random.shuffle(files_list)\n",
    "    c_learning = int(share['learning']*n_files)\n",
    "    c_validation = int(share['validation']*n_files)\n",
    "    return {\n",
    "        'learning': files_list[:c_learning],\n",
    "        'validation': files_list[c_learning: c_learning+c_validation],\n",
    "        'testing': files_list[c_learning+c_validation:]\n",
    "    }"
   ]
  },
  {
   "cell_type": "code",
   "execution_count": 68,
   "metadata": {},
   "outputs": [],
   "source": [
    "class Batch:\n",
    "    def __init__(self, files_dir, checkstyle_dir, batch_id=None):\n",
    "        self.checkstyle_dir = checkstyle_dir\n",
    "        if batch_id == None:\n",
    "            self.batch_id = uuid.uuid4().hex\n",
    "        else:\n",
    "            self.batch_id = batch_id\n",
    "        self.batch_files = [random.choice(files_dir) for _ in range(BATCH_SIZE)]\n",
    "        self.batch_dir = f'./tmp/{self.batch_id}'\n",
    "    \n",
    "    def gen(self):\n",
    "        create_dir(self.batch_dir)\n",
    "        self.batch_injections = {}\n",
    "        for index, file_dir in tqdm(enumerate(self.batch_files), total=BATCH_SIZE):\n",
    "            file_name = file_dir.split('/')[-1]\n",
    "            original_source = open_file(file_dir)\n",
    "            modified_source, modification = modify_source(original_source)\n",
    "            modification_folder = os.path.join(self.batch_dir, str(index))\n",
    "            create_dir(modification_folder)\n",
    "            modified_file_dir = save_file(modification_folder, file_name, modified_source)\n",
    "            \n",
    "            diff_str = diff(file_dir, modified_file_dir)\n",
    "            diff_path = save_file(modification_folder, 'diff.diff', diff_str)\n",
    "            self.batch_injections[index] = {\n",
    "                'modification': modification,\n",
    "                'diff': diff_str,\n",
    "                'dir': modification_folder,\n",
    "                'orig': file_dir,\n",
    "                'file_name': file_name\n",
    "            }\n",
    "        self.checkstyle_result, _ = checkstyle.check(\n",
    "            self.checkstyle_dir,\n",
    "            self.batch_dir,\n",
    "            checkstyle_jar=\"../../jars/checkstyle-8.12-all.jar\",\n",
    "            only_java=True\n",
    "        )\n",
    "        for file_dir, res in self.checkstyle_result.items():\n",
    "            index = int(file_dir.split('/')[-2])\n",
    "            self.batch_injections[index]['errors'] = res['errors']\n",
    "            save_json(self.batch_injections[index]['dir'], 'errors.json', res['errors'])\n",
    "        self.batch_information = {\n",
    "            'batch_id': self.batch_id,\n",
    "            'injection_report': self.batch_injections\n",
    "        }\n",
    "        save_json(self.batch_dir, 'metadata.json', self.batch_information)\n",
    "        return self.batch_information\n",
    "    \n",
    "    def clean(self):\n",
    "        shutil.rmtree(self.batch_dir)"
   ]
  },
  {
   "cell_type": "code",
   "execution_count": 69,
   "metadata": {},
   "outputs": [
    {
     "data": {
      "text/plain": [
       "'../corpora/dagger-corpus/checkstyle.xml'"
      ]
     },
     "execution_count": 69,
     "metadata": {},
     "output_type": "execute_result"
    }
   ],
   "source": [
    "corpus.checkstyle"
   ]
  },
  {
   "cell_type": "code",
   "execution_count": 50,
   "metadata": {},
   "outputs": [],
   "source": [
    "batch = Batch(split_files(corpus, share)['learning'], corpus.checkstyle)"
   ]
  },
  {
   "cell_type": "code",
   "execution_count": 51,
   "metadata": {},
   "outputs": [
    {
     "name": "stderr",
     "output_type": "stream",
     "text": [
      "100%|██████████| 500/500 [00:12<00:00, 39.72it/s]\n"
     ]
    }
   ],
   "source": [
    "batch_res = batch.gen();"
   ]
  },
  {
   "cell_type": "code",
   "execution_count": 52,
   "metadata": {},
   "outputs": [],
   "source": [
    "errors_type = [\n",
    "    info['errors'][0]['source'].split('.')[-1] \n",
    "    for info in batch_res['injection_report'].values() \n",
    "    if len(info['errors']) == 1\n",
    "]"
   ]
  },
  {
   "cell_type": "code",
   "execution_count": 53,
   "metadata": {},
   "outputs": [
    {
     "name": "stdout",
     "output_type": "stream",
     "text": [
      "total number of files with a single errors 51 ()\n"
     ]
    }
   ],
   "source": [
    "print(f'total number of files with a single errors {len(errors_type)} ()')"
   ]
  },
  {
   "cell_type": "code",
   "execution_count": 54,
   "metadata": {},
   "outputs": [],
   "source": [
    "from collections import Counter"
   ]
  },
  {
   "cell_type": "code",
   "execution_count": 55,
   "metadata": {},
   "outputs": [
    {
     "data": {
      "text/plain": [
       "Counter({'LeftCurlyCheck': 35,\n",
       "         'LineLengthCheck': 7,\n",
       "         'GenericWhitespaceCheck': 4,\n",
       "         'WhitespaceAroundCheck': 1,\n",
       "         'RightCurlyCheck': 2,\n",
       "         'MethodParamPadCheck': 1,\n",
       "         'WhitespaceAfterCheck': 1})"
      ]
     },
     "execution_count": 55,
     "metadata": {},
     "output_type": "execute_result"
    }
   ],
   "source": [
    "error_type_count = Counter(errors_type)\n",
    "error_type_count"
   ]
  },
  {
   "cell_type": "code",
   "execution_count": 56,
   "metadata": {},
   "outputs": [],
   "source": [
    "import matplotlib.pyplot as plt\n",
    "%matplotlib inline"
   ]
  },
  {
   "cell_type": "code",
   "execution_count": 57,
   "metadata": {},
   "outputs": [],
   "source": [
    "col_names, values = tuple(zip(*list(error_type_count.items())))"
   ]
  },
  {
   "cell_type": "code",
   "execution_count": 58,
   "metadata": {},
   "outputs": [
    {
     "data": {
      "image/png": "[encoded data removed]",
      "text/plain": [
       "<Figure size 432x288 with 1 Axes>"
      ]
     },
     "metadata": {
      "needs_background": "light"
     },
     "output_type": "display_data"
    }
   ],
   "source": [
    "fig = plt.figure()\n",
    "\n",
    "y_pos = list(range((len(col_names))))\n",
    "\n",
    "plt.bar(y_pos, values)\n",
    "\n",
    "plt.xticks(y_pos, col_names,rotation='vertical')\n",
    "\n",
    "plt.show()"
   ]
  },
  {
   "cell_type": "markdown",
   "metadata": {},
   "source": [
    "### Dataset"
   ]
  },
  {
   "cell_type": "code",
   "execution_count": 70,
   "metadata": {},
   "outputs": [],
   "source": [
    "from tqdm import tqdm_notebook as tqdm\n",
    "def gen_errors(files_dir, checkstyle_dir, target, number_of_errors):\n",
    "    valid_errors = []\n",
    "    batches = []\n",
    "    with tqdm(total=number_of_errors) as pbar:\n",
    "        while len(valid_errors) < number_of_errors:\n",
    "            batch = Batch(files_dir, checkstyle_dir)\n",
    "            batches.append(batch)\n",
    "            try:\n",
    "                batch_res = batch.gen()\n",
    "            except: # UnicodeEncodeError\n",
    "                continue\n",
    "            batch_valid_errors = [\n",
    "                info\n",
    "                for info in batch_res['injection_report'].values() \n",
    "                if len(info['errors']) == 1\n",
    "            ]\n",
    "            valid_errors += batch_valid_errors\n",
    "            pbar.update(len(batch_valid_errors))\n",
    "    selected_errors = random.sample(valid_errors, number_of_errors)\n",
    "    for error_id, error_metadata in enumerate(selected_errors):\n",
    "        new_error_dir = os.path.join(target, str(error_id))\n",
    "        old_dir = error_metadata['dir']\n",
    "        shutil.move(old_dir, new_error_dir)\n",
    "        error_metadata['dir'] = new_error_dir\n",
    "        error_metadata['error'] = error_metadata['errors'][0]\n",
    "        error_metadata['error']['type'] = checkstyle_source_to_error_type(error_metadata['error']['source'])\n",
    "        \n",
    "        file_name = error_metadata['file_name']\n",
    "        orig_file_name = '.'.join(file_name.split('.')[:-1]) + '-orig.java'\n",
    "        shutil.copy(error_metadata['orig'], os.path.join(new_error_dir, orig_file_name))\n",
    "        \n",
    "        save_json(new_error_dir, 'metadata.json', error_metadata)\n",
    "    for batch in batches:\n",
    "        batch.clean()\n",
    "    return selected_errors"
   ]
  },
  {
   "cell_type": "code",
   "execution_count": 58,
   "metadata": {},
   "outputs": [
    {
     "data": {
      "application/vnd.jupyter.widget-view+json": {
       "model_id": "0c05aa491e874bf8a4d4d702aee60c81",
       "version_major": 2,
       "version_minor": 0
      },
      "text/plain": [
       "HBox(children=(IntProgress(value=0, max=20), HTML(value='')))"
      ]
     },
     "metadata": {},
     "output_type": "display_data"
    },
    {
     "data": {
      "application/vnd.jupyter.widget-view+json": {
       "model_id": "7f20a49d4a3b46e8a393a845dfb2d2a2",
       "version_major": 2,
       "version_minor": 0
      },
      "text/plain": [
       "HBox(children=(IntProgress(value=0, max=500), HTML(value='')))"
      ]
     },
     "metadata": {},
     "output_type": "display_data"
    },
    {
     "name": "stdout",
     "output_type": "stream",
     "text": [
      "\n"
     ]
    }
   ],
   "source": [
    "gen_errors(split_files(corpus, share)['learning'], corpus.checkstyle, './tmp/dataset', 20);"
   ]
  },
  {
   "cell_type": "code",
   "execution_count": 71,
   "metadata": {},
   "outputs": [],
   "source": [
    "def gen_dataset(corpus, share, total, target):\n",
    "    splitted_files = split_files(corpus, share)\n",
    "    for name, subset_share in share.items():\n",
    "        gen_errors(splitted_files[name], corpus.checkstyle, os.path.join(target, name), int(subset_share*total))"
   ]
  },
  {
   "cell_type": "code",
   "execution_count": null,
   "metadata": {},
   "outputs": [
    {
     "data": {
      "application/vnd.jupyter.widget-view+json": {
       "model_id": "e0f2464fd3af482a91943dcb214d943f",
       "version_major": 2,
       "version_minor": 0
      },
      "text/plain": [
       "HBox(children=(IntProgress(value=0, max=30000), HTML(value='')))"
      ]
     },
     "metadata": {},
     "output_type": "display_data"
    },
    {
     "data": {
      "application/vnd.jupyter.widget-view+json": {
       "model_id": "1995916a6cba466dbc5de6aed1bc41f2",
       "version_major": 2,
       "version_minor": 0
      },
      "text/plain": [
       "HBox(children=(IntProgress(value=0, max=1000), HTML(value='')))"
      ]
     },
     "metadata": {},
     "output_type": "display_data"
    },
    {
     "data": {
      "application/vnd.jupyter.widget-view+json": {
       "model_id": "482554f0d75f496ca2c34597e4bf7c01",
       "version_major": 2,
       "version_minor": 0
      },
      "text/plain": [
       "HBox(children=(IntProgress(value=0, max=1000), HTML(value='')))"
      ]
     },
     "metadata": {},
     "output_type": "display_data"
    },
    {
     "data": {
      "application/vnd.jupyter.widget-view+json": {
       "model_id": "bd70e6072c50432a9b127b436ec432b6",
       "version_major": 2,
       "version_minor": 0
      },
      "text/plain": [
       "HBox(children=(IntProgress(value=0, max=1000), HTML(value='')))"
      ]
     },
     "metadata": {},
     "output_type": "display_data"
    },
    {
     "data": {
      "application/vnd.jupyter.widget-view+json": {
       "model_id": "d753eab329a74aed9ef6cb3d9fcdfdce",
       "version_major": 2,
       "version_minor": 0
      },
      "text/plain": [
       "HBox(children=(IntProgress(value=0, max=1000), HTML(value='')))"
      ]
     },
     "metadata": {},
     "output_type": "display_data"
    },
    {
     "data": {
      "application/vnd.jupyter.widget-view+json": {
       "model_id": "63a7cf80380f4063b32811d342c7b74c",
       "version_major": 2,
       "version_minor": 0
      },
      "text/plain": [
       "HBox(children=(IntProgress(value=0, max=1000), HTML(value='')))"
      ]
     },
     "metadata": {},
     "output_type": "display_data"
    },
    {
     "data": {
      "application/vnd.jupyter.widget-view+json": {
       "model_id": "aa367349183846728348438f2d1e91fe",
       "version_major": 2,
       "version_minor": 0
      },
      "text/plain": [
       "HBox(children=(IntProgress(value=0, max=1000), HTML(value='')))"
      ]
     },
     "metadata": {},
     "output_type": "display_data"
    },
    {
     "data": {
      "application/vnd.jupyter.widget-view+json": {
       "model_id": "6a0eccae24e8431d91e2021c827cab86",
       "version_major": 2,
       "version_minor": 0
      },
      "text/plain": [
       "HBox(children=(IntProgress(value=0, max=1000), HTML(value='')))"
      ]
     },
     "metadata": {},
     "output_type": "display_data"
    },
    {
     "data": {
      "application/vnd.jupyter.widget-view+json": {
       "model_id": "abc0be179fa6476aac0ab051e7e4b2da",
       "version_major": 2,
       "version_minor": 0
      },
      "text/plain": [
       "HBox(children=(IntProgress(value=0, max=1000), HTML(value='')))"
      ]
     },
     "metadata": {},
     "output_type": "display_data"
    },
    {
     "data": {
      "application/vnd.jupyter.widget-view+json": {
       "model_id": "f4374b4fb01e4606957ca31623ad465b",
       "version_major": 2,
       "version_minor": 0
      },
      "text/plain": [
       "HBox(children=(IntProgress(value=0, max=1000), HTML(value='')))"
      ]
     },
     "metadata": {},
     "output_type": "display_data"
    },
    {
     "data": {
      "application/vnd.jupyter.widget-view+json": {
       "model_id": "e2982bc854214d4ab8a278bd18859e97",
       "version_major": 2,
       "version_minor": 0
      },
      "text/plain": [
       "HBox(children=(IntProgress(value=0, max=1000), HTML(value='')))"
      ]
     },
     "metadata": {},
     "output_type": "display_data"
    },
    {
     "data": {
      "application/vnd.jupyter.widget-view+json": {
       "model_id": "f26f26e1d3d344e2a10a8dd1b760d0c0",
       "version_major": 2,
       "version_minor": 0
      },
      "text/plain": [
       "HBox(children=(IntProgress(value=0, max=1000), HTML(value='')))"
      ]
     },
     "metadata": {},
     "output_type": "display_data"
    },
    {
     "data": {
      "application/vnd.jupyter.widget-view+json": {
       "model_id": "a7a68f7b9f524ff1a2780a8705624b80",
       "version_major": 2,
       "version_minor": 0
      },
      "text/plain": [
       "HBox(children=(IntProgress(value=0, max=1000), HTML(value='')))"
      ]
     },
     "metadata": {},
     "output_type": "display_data"
    },
    {
     "data": {
      "application/vnd.jupyter.widget-view+json": {
       "model_id": "64d247f92e9944fdb76d26d58f77d84f",
       "version_major": 2,
       "version_minor": 0
      },
      "text/plain": [
       "HBox(children=(IntProgress(value=0, max=1000), HTML(value='')))"
      ]
     },
     "metadata": {},
     "output_type": "display_data"
    },
    {
     "data": {
      "application/vnd.jupyter.widget-view+json": {
       "model_id": "58570d64f38641f49eccfbb4432d4a61",
       "version_major": 2,
       "version_minor": 0
      },
      "text/plain": [
       "HBox(children=(IntProgress(value=0, max=1000), HTML(value='')))"
      ]
     },
     "metadata": {},
     "output_type": "display_data"
    },
    {
     "data": {
      "application/vnd.jupyter.widget-view+json": {
       "model_id": "5c04ea67084a4765aed698aa8f0f6856",
       "version_major": 2,
       "version_minor": 0
      },
      "text/plain": [
       "HBox(children=(IntProgress(value=0, max=1000), HTML(value='')))"
      ]
     },
     "metadata": {},
     "output_type": "display_data"
    },
    {
     "data": {
      "application/vnd.jupyter.widget-view+json": {
       "model_id": "876ef51d8d1a4f05914037ff5ca028b7",
       "version_major": 2,
       "version_minor": 0
      },
      "text/plain": [
       "HBox(children=(IntProgress(value=0, max=1000), HTML(value='')))"
      ]
     },
     "metadata": {},
     "output_type": "display_data"
    },
    {
     "data": {
      "application/vnd.jupyter.widget-view+json": {
       "model_id": "47360f0e265c458c8cb17504abdfb2f3",
       "version_major": 2,
       "version_minor": 0
      },
      "text/plain": [
       "HBox(children=(IntProgress(value=0, max=1000), HTML(value='')))"
      ]
     },
     "metadata": {},
     "output_type": "display_data"
    },
    {
     "data": {
      "application/vnd.jupyter.widget-view+json": {
       "model_id": "2cf0520042354477ab0884af88f67067",
       "version_major": 2,
       "version_minor": 0
      },
      "text/plain": [
       "HBox(children=(IntProgress(value=0, max=1000), HTML(value='')))"
      ]
     },
     "metadata": {},
     "output_type": "display_data"
    },
    {
     "data": {
      "application/vnd.jupyter.widget-view+json": {
       "model_id": "53cac20b3ec3434eab948edb1049cb5c",
       "version_major": 2,
       "version_minor": 0
      },
      "text/plain": [
       "HBox(children=(IntProgress(value=0, max=1000), HTML(value='')))"
      ]
     },
     "metadata": {},
     "output_type": "display_data"
    },
    {
     "data": {
      "application/vnd.jupyter.widget-view+json": {
       "model_id": "91671780b97a497da8a3d6dd2d8727cf",
       "version_major": 2,
       "version_minor": 0
      },
      "text/plain": [
       "HBox(children=(IntProgress(value=0, max=1000), HTML(value='')))"
      ]
     },
     "metadata": {},
     "output_type": "display_data"
    },
    {
     "data": {
      "application/vnd.jupyter.widget-view+json": {
       "model_id": "893b6ad87ac64a5bbf99f5c8994f3414",
       "version_major": 2,
       "version_minor": 0
      },
      "text/plain": [
       "HBox(children=(IntProgress(value=0, max=1000), HTML(value='')))"
      ]
     },
     "metadata": {},
     "output_type": "display_data"
    },
    {
     "data": {
      "application/vnd.jupyter.widget-view+json": {
       "model_id": "93723f885a3d44acab744de7eab1eaaf",
       "version_major": 2,
       "version_minor": 0
      },
      "text/plain": [
       "HBox(children=(IntProgress(value=0, max=1000), HTML(value='')))"
      ]
     },
     "metadata": {},
     "output_type": "display_data"
    },
    {
     "data": {
      "application/vnd.jupyter.widget-view+json": {
       "model_id": "176ce2491dc6444a82e4c16d5806802e",
       "version_major": 2,
       "version_minor": 0
      },
      "text/plain": [
       "HBox(children=(IntProgress(value=0, max=1000), HTML(value='')))"
      ]
     },
     "metadata": {},
     "output_type": "display_data"
    },
    {
     "data": {
      "application/vnd.jupyter.widget-view+json": {
       "model_id": "34732cb098bf4c7ebb365f6b6c683ccc",
       "version_major": 2,
       "version_minor": 0
      },
      "text/plain": [
       "HBox(children=(IntProgress(value=0, max=1000), HTML(value='')))"
      ]
     },
     "metadata": {},
     "output_type": "display_data"
    },
    {
     "data": {
      "application/vnd.jupyter.widget-view+json": {
       "model_id": "463a589568644ba5ab6bb300dd8e6155",
       "version_major": 2,
       "version_minor": 0
      },
      "text/plain": [
       "HBox(children=(IntProgress(value=0, max=1000), HTML(value='')))"
      ]
     },
     "metadata": {},
     "output_type": "display_data"
    },
    {
     "data": {
      "application/vnd.jupyter.widget-view+json": {
       "model_id": "1518f30210904045bf83f41fe21530e7",
       "version_major": 2,
       "version_minor": 0
      },
      "text/plain": [
       "HBox(children=(IntProgress(value=0, max=1000), HTML(value='')))"
      ]
     },
     "metadata": {},
     "output_type": "display_data"
    },
    {
     "data": {
      "application/vnd.jupyter.widget-view+json": {
       "model_id": "436d0aa233614889b06cea4c1cf74cef",
       "version_major": 2,
       "version_minor": 0
      },
      "text/plain": [
       "HBox(children=(IntProgress(value=0, max=1000), HTML(value='')))"
      ]
     },
     "metadata": {},
     "output_type": "display_data"
    },
    {
     "data": {
      "application/vnd.jupyter.widget-view+json": {
       "model_id": "cf810eab5dd24f24b45e394dd2995602",
       "version_major": 2,
       "version_minor": 0
      },
      "text/plain": [
       "HBox(children=(IntProgress(value=0, max=1000), HTML(value='')))"
      ]
     },
     "metadata": {},
     "output_type": "display_data"
    },
    {
     "data": {
      "application/vnd.jupyter.widget-view+json": {
       "model_id": "f90bd58c1bfa457781164fd2ea2af148",
       "version_major": 2,
       "version_minor": 0
      },
      "text/plain": [
       "HBox(children=(IntProgress(value=0, max=1000), HTML(value='')))"
      ]
     },
     "metadata": {},
     "output_type": "display_data"
    },
    {
     "data": {
      "application/vnd.jupyter.widget-view+json": {
       "model_id": "9f6148a568974091be4272e59a82e3c0",
       "version_major": 2,
       "version_minor": 0
      },
      "text/plain": [
       "HBox(children=(IntProgress(value=0, max=1000), HTML(value='')))"
      ]
     },
     "metadata": {},
     "output_type": "display_data"
    },
    {
     "data": {
      "application/vnd.jupyter.widget-view+json": {
       "model_id": "748f91955ca94e8984e47be4bec3e8c3",
       "version_major": 2,
       "version_minor": 0
      },
      "text/plain": [
       "HBox(children=(IntProgress(value=0, max=1000), HTML(value='')))"
      ]
     },
     "metadata": {},
     "output_type": "display_data"
    },
    {
     "data": {
      "application/vnd.jupyter.widget-view+json": {
       "model_id": "06d01111ab764dd287835cca817361b3",
       "version_major": 2,
       "version_minor": 0
      },
      "text/plain": [
       "HBox(children=(IntProgress(value=0, max=1000), HTML(value='')))"
      ]
     },
     "metadata": {},
     "output_type": "display_data"
    },
    {
     "data": {
      "application/vnd.jupyter.widget-view+json": {
       "model_id": "1f1efb912023407badb0bfafc998a61c",
       "version_major": 2,
       "version_minor": 0
      },
      "text/plain": [
       "HBox(children=(IntProgress(value=0, max=1000), HTML(value='')))"
      ]
     },
     "metadata": {},
     "output_type": "display_data"
    },
    {
     "data": {
      "application/vnd.jupyter.widget-view+json": {
       "model_id": "f8e244524ff24797a342c99f6776fda0",
       "version_major": 2,
       "version_minor": 0
      },
      "text/plain": [
       "HBox(children=(IntProgress(value=0, max=1000), HTML(value='')))"
      ]
     },
     "metadata": {},
     "output_type": "display_data"
    },
    {
     "data": {
      "application/vnd.jupyter.widget-view+json": {
       "model_id": "fd8c8cb6e7b14994b7f40583d7b534f7",
       "version_major": 2,
       "version_minor": 0
      },
      "text/plain": [
       "HBox(children=(IntProgress(value=0, max=1000), HTML(value='')))"
      ]
     },
     "metadata": {},
     "output_type": "display_data"
    },
    {
     "data": {
      "application/vnd.jupyter.widget-view+json": {
       "model_id": "6708c2ffa65e4097bdf35df73fff550a",
       "version_major": 2,
       "version_minor": 0
      },
      "text/plain": [
       "HBox(children=(IntProgress(value=0, max=1000), HTML(value='')))"
      ]
     },
     "metadata": {},
     "output_type": "display_data"
    },
    {
     "data": {
      "application/vnd.jupyter.widget-view+json": {
       "model_id": "23ec507e2d79496b9a576f5d729a5708",
       "version_major": 2,
       "version_minor": 0
      },
      "text/plain": [
       "HBox(children=(IntProgress(value=0, max=1000), HTML(value='')))"
      ]
     },
     "metadata": {},
     "output_type": "display_data"
    },
    {
     "data": {
      "application/vnd.jupyter.widget-view+json": {
       "model_id": "11919266c9b94786837f681a87db83ff",
       "version_major": 2,
       "version_minor": 0
      },
      "text/plain": [
       "HBox(children=(IntProgress(value=0, max=1000), HTML(value='')))"
      ]
     },
     "metadata": {},
     "output_type": "display_data"
    },
    {
     "data": {
      "application/vnd.jupyter.widget-view+json": {
       "model_id": "2bbb86fc448249a7be560b4e48e52f3e",
       "version_major": 2,
       "version_minor": 0
      },
      "text/plain": [
       "HBox(children=(IntProgress(value=0, max=1000), HTML(value='')))"
      ]
     },
     "metadata": {},
     "output_type": "display_data"
    },
    {
     "data": {
      "application/vnd.jupyter.widget-view+json": {
       "model_id": "e1a5ca2ef481431b8bc3ce28aaf52882",
       "version_major": 2,
       "version_minor": 0
      },
      "text/plain": [
       "HBox(children=(IntProgress(value=0, max=1000), HTML(value='')))"
      ]
     },
     "metadata": {},
     "output_type": "display_data"
    },
    {
     "data": {
      "application/vnd.jupyter.widget-view+json": {
       "model_id": "292a03c5a22a4e719f5f939a2a6f916f",
       "version_major": 2,
       "version_minor": 0
      },
      "text/plain": [
       "HBox(children=(IntProgress(value=0, max=1000), HTML(value='')))"
      ]
     },
     "metadata": {},
     "output_type": "display_data"
    },
    {
     "data": {
      "application/vnd.jupyter.widget-view+json": {
       "model_id": "60714ff5740e4ea2b5d1827cc640752e",
       "version_major": 2,
       "version_minor": 0
      },
      "text/plain": [
       "HBox(children=(IntProgress(value=0, max=1000), HTML(value='')))"
      ]
     },
     "metadata": {},
     "output_type": "display_data"
    },
    {
     "data": {
      "application/vnd.jupyter.widget-view+json": {
       "model_id": "ea868037702e4f6f80a3efb984afea9b",
       "version_major": 2,
       "version_minor": 0
      },
      "text/plain": [
       "HBox(children=(IntProgress(value=0, max=1000), HTML(value='')))"
      ]
     },
     "metadata": {},
     "output_type": "display_data"
    },
    {
     "data": {
      "application/vnd.jupyter.widget-view+json": {
       "model_id": "f45d4a6a66d6428fbac1f19a44fda3a8",
       "version_major": 2,
       "version_minor": 0
      },
      "text/plain": [
       "HBox(children=(IntProgress(value=0, max=1000), HTML(value='')))"
      ]
     },
     "metadata": {},
     "output_type": "display_data"
    },
    {
     "data": {
      "application/vnd.jupyter.widget-view+json": {
       "model_id": "3aa9af11615a45d7b870a4d910bf2a12",
       "version_major": 2,
       "version_minor": 0
      },
      "text/plain": [
       "HBox(children=(IntProgress(value=0, max=1000), HTML(value='')))"
      ]
     },
     "metadata": {},
     "output_type": "display_data"
    },
    {
     "data": {
      "application/vnd.jupyter.widget-view+json": {
       "model_id": "fdcd28858e904dc58c4250505499c187",
       "version_major": 2,
       "version_minor": 0
      },
      "text/plain": [
       "HBox(children=(IntProgress(value=0, max=1000), HTML(value='')))"
      ]
     },
     "metadata": {},
     "output_type": "display_data"
    },
    {
     "data": {
      "application/vnd.jupyter.widget-view+json": {
       "model_id": "b2dc3596c2734c9d87a45143034cff06",
       "version_major": 2,
       "version_minor": 0
      },
      "text/plain": [
       "HBox(children=(IntProgress(value=0, max=1000), HTML(value='')))"
      ]
     },
     "metadata": {},
     "output_type": "display_data"
    },
    {
     "data": {
      "application/vnd.jupyter.widget-view+json": {
       "model_id": "62a487cf937e4e7d913ab874d8a8804d",
       "version_major": 2,
       "version_minor": 0
      },
      "text/plain": [
       "HBox(children=(IntProgress(value=0, max=1000), HTML(value='')))"
      ]
     },
     "metadata": {},
     "output_type": "display_data"
    },
    {
     "data": {
      "application/vnd.jupyter.widget-view+json": {
       "model_id": "95deaea83deb4c9eb918b6526cde3a9f",
       "version_major": 2,
       "version_minor": 0
      },
      "text/plain": [
       "HBox(children=(IntProgress(value=0, max=1000), HTML(value='')))"
      ]
     },
     "metadata": {},
     "output_type": "display_data"
    },
    {
     "data": {
      "application/vnd.jupyter.widget-view+json": {
       "model_id": "fedb779cec6544cd8234b540d1f1e9ad",
       "version_major": 2,
       "version_minor": 0
      },
      "text/plain": [
       "HBox(children=(IntProgress(value=0, max=1000), HTML(value='')))"
      ]
     },
     "metadata": {},
     "output_type": "display_data"
    },
    {
     "data": {
      "application/vnd.jupyter.widget-view+json": {
       "model_id": "08ce0345a33140b5bbb6b7b9c3cca712",
       "version_major": 2,
       "version_minor": 0
      },
      "text/plain": [
       "HBox(children=(IntProgress(value=0, max=1000), HTML(value='')))"
      ]
     },
     "metadata": {},
     "output_type": "display_data"
    },
    {
     "data": {
      "application/vnd.jupyter.widget-view+json": {
       "model_id": "2f55b52b2ed340f58f7a8d6185b5b0cd",
       "version_major": 2,
       "version_minor": 0
      },
      "text/plain": [
       "HBox(children=(IntProgress(value=0, max=1000), HTML(value='')))"
      ]
     },
     "metadata": {},
     "output_type": "display_data"
    },
    {
     "data": {
      "application/vnd.jupyter.widget-view+json": {
       "model_id": "7e0f84e5e1fc443a91979787342535d5",
       "version_major": 2,
       "version_minor": 0
      },
      "text/plain": [
       "HBox(children=(IntProgress(value=0, max=1000), HTML(value='')))"
      ]
     },
     "metadata": {},
     "output_type": "display_data"
    },
    {
     "data": {
      "application/vnd.jupyter.widget-view+json": {
       "model_id": "6ae420aef12249a3a0a41ba426a9f376",
       "version_major": 2,
       "version_minor": 0
      },
      "text/plain": [
       "HBox(children=(IntProgress(value=0, max=1000), HTML(value='')))"
      ]
     },
     "metadata": {},
     "output_type": "display_data"
    },
    {
     "data": {
      "application/vnd.jupyter.widget-view+json": {
       "model_id": "2fe2dab99e254776b207cb357551727f",
       "version_major": 2,
       "version_minor": 0
      },
      "text/plain": [
       "HBox(children=(IntProgress(value=0, max=1000), HTML(value='')))"
      ]
     },
     "metadata": {},
     "output_type": "display_data"
    },
    {
     "data": {
      "application/vnd.jupyter.widget-view+json": {
       "model_id": "252a79ab49704f49a4555b1800aa863f",
       "version_major": 2,
       "version_minor": 0
      },
      "text/plain": [
       "HBox(children=(IntProgress(value=0, max=1000), HTML(value='')))"
      ]
     },
     "metadata": {},
     "output_type": "display_data"
    },
    {
     "data": {
      "application/vnd.jupyter.widget-view+json": {
       "model_id": "923452e3004d4a37b996bde1a0eba024",
       "version_major": 2,
       "version_minor": 0
      },
      "text/plain": [
       "HBox(children=(IntProgress(value=0, max=1000), HTML(value='')))"
      ]
     },
     "metadata": {},
     "output_type": "display_data"
    },
    {
     "data": {
      "application/vnd.jupyter.widget-view+json": {
       "model_id": "904d48308be34b58aedb871b9a604178",
       "version_major": 2,
       "version_minor": 0
      },
      "text/plain": [
       "HBox(children=(IntProgress(value=0, max=1000), HTML(value='')))"
      ]
     },
     "metadata": {},
     "output_type": "display_data"
    },
    {
     "data": {
      "application/vnd.jupyter.widget-view+json": {
       "model_id": "166e010c8d9f44fc89cdd432a2944a00",
       "version_major": 2,
       "version_minor": 0
      },
      "text/plain": [
       "HBox(children=(IntProgress(value=0, max=1000), HTML(value='')))"
      ]
     },
     "metadata": {},
     "output_type": "display_data"
    },
    {
     "data": {
      "application/vnd.jupyter.widget-view+json": {
       "model_id": "8d826926cda844d19dbe0a1cf84584ff",
       "version_major": 2,
       "version_minor": 0
      },
      "text/plain": [
       "HBox(children=(IntProgress(value=0, max=1000), HTML(value='')))"
      ]
     },
     "metadata": {},
     "output_type": "display_data"
    },
    {
     "data": {
      "application/vnd.jupyter.widget-view+json": {
       "model_id": "7284a92baa014b02835edfa4227a68e8",
       "version_major": 2,
       "version_minor": 0
      },
      "text/plain": [
       "HBox(children=(IntProgress(value=0, max=1000), HTML(value='')))"
      ]
     },
     "metadata": {},
     "output_type": "display_data"
    },
    {
     "data": {
      "application/vnd.jupyter.widget-view+json": {
       "model_id": "c4eed530a7984f4aad1b118fe94a6f7e",
       "version_major": 2,
       "version_minor": 0
      },
      "text/plain": [
       "HBox(children=(IntProgress(value=0, max=1000), HTML(value='')))"
      ]
     },
     "metadata": {},
     "output_type": "display_data"
    },
    {
     "data": {
      "application/vnd.jupyter.widget-view+json": {
       "model_id": "40ae58ca462e47cba624505364c40f36",
       "version_major": 2,
       "version_minor": 0
      },
      "text/plain": [
       "HBox(children=(IntProgress(value=0, max=1000), HTML(value='')))"
      ]
     },
     "metadata": {},
     "output_type": "display_data"
    },
    {
     "data": {
      "application/vnd.jupyter.widget-view+json": {
       "model_id": "0ec45635c34a490e8a50f0eb09cc00bf",
       "version_major": 2,
       "version_minor": 0
      },
      "text/plain": [
       "HBox(children=(IntProgress(value=0, max=1000), HTML(value='')))"
      ]
     },
     "metadata": {},
     "output_type": "display_data"
    },
    {
     "data": {
      "application/vnd.jupyter.widget-view+json": {
       "model_id": "408efb80ce6d44aba6203409d50d8acb",
       "version_major": 2,
       "version_minor": 0
      },
      "text/plain": [
       "HBox(children=(IntProgress(value=0, max=1000), HTML(value='')))"
      ]
     },
     "metadata": {},
     "output_type": "display_data"
    },
    {
     "data": {
      "application/vnd.jupyter.widget-view+json": {
       "model_id": "4ba9501d0ff6453dad85cd7ee168acc1",
       "version_major": 2,
       "version_minor": 0
      },
      "text/plain": [
       "HBox(children=(IntProgress(value=0, max=1000), HTML(value='')))"
      ]
     },
     "metadata": {},
     "output_type": "display_data"
    },
    {
     "data": {
      "application/vnd.jupyter.widget-view+json": {
       "model_id": "e4d3afece21b48ce84a5f67b43bb4346",
       "version_major": 2,
       "version_minor": 0
      },
      "text/plain": [
       "HBox(children=(IntProgress(value=0, max=1000), HTML(value='')))"
      ]
     },
     "metadata": {},
     "output_type": "display_data"
    },
    {
     "data": {
      "application/vnd.jupyter.widget-view+json": {
       "model_id": "0f39bc0507ea4dd39c2dd6dab73f47db",
       "version_major": 2,
       "version_minor": 0
      },
      "text/plain": [
       "HBox(children=(IntProgress(value=0, max=1000), HTML(value='')))"
      ]
     },
     "metadata": {},
     "output_type": "display_data"
    },
    {
     "data": {
      "application/vnd.jupyter.widget-view+json": {
       "model_id": "7881bdc73c894ec4bc2b3c6ac3ae9024",
       "version_major": 2,
       "version_minor": 0
      },
      "text/plain": [
       "HBox(children=(IntProgress(value=0, max=1000), HTML(value='')))"
      ]
     },
     "metadata": {},
     "output_type": "display_data"
    },
    {
     "data": {
      "application/vnd.jupyter.widget-view+json": {
       "model_id": "570d104afe04410c90adc9f675e25408",
       "version_major": 2,
       "version_minor": 0
      },
      "text/plain": [
       "HBox(children=(IntProgress(value=0, max=1000), HTML(value='')))"
      ]
     },
     "metadata": {},
     "output_type": "display_data"
    },
    {
     "data": {
      "application/vnd.jupyter.widget-view+json": {
       "model_id": "1d45a293971c49dab7aec8f13e7bb05a",
       "version_major": 2,
       "version_minor": 0
      },
      "text/plain": [
       "HBox(children=(IntProgress(value=0, max=1000), HTML(value='')))"
      ]
     },
     "metadata": {},
     "output_type": "display_data"
    },
    {
     "data": {
      "application/vnd.jupyter.widget-view+json": {
       "model_id": "8aa5498d997c4df4a71689823cdaf1e2",
       "version_major": 2,
       "version_minor": 0
      },
      "text/plain": [
       "HBox(children=(IntProgress(value=0, max=1000), HTML(value='')))"
      ]
     },
     "metadata": {},
     "output_type": "display_data"
    },
    {
     "data": {
      "application/vnd.jupyter.widget-view+json": {
       "model_id": "f58afce3249c430a9b289c7114f721af",
       "version_major": 2,
       "version_minor": 0
      },
      "text/plain": [
       "HBox(children=(IntProgress(value=0, max=1000), HTML(value='')))"
      ]
     },
     "metadata": {},
     "output_type": "display_data"
    },
    {
     "data": {
      "application/vnd.jupyter.widget-view+json": {
       "model_id": "e306a65c2161484dbdf3da33cb65aaee",
       "version_major": 2,
       "version_minor": 0
      },
      "text/plain": [
       "HBox(children=(IntProgress(value=0, max=1000), HTML(value='')))"
      ]
     },
     "metadata": {},
     "output_type": "display_data"
    },
    {
     "data": {
      "application/vnd.jupyter.widget-view+json": {
       "model_id": "92c240b697574e76b97f4e1d59c13e29",
       "version_major": 2,
       "version_minor": 0
      },
      "text/plain": [
       "HBox(children=(IntProgress(value=0, max=1000), HTML(value='')))"
      ]
     },
     "metadata": {},
     "output_type": "display_data"
    },
    {
     "data": {
      "application/vnd.jupyter.widget-view+json": {
       "model_id": "d3176f485af149d2add89dd803a1ae62",
       "version_major": 2,
       "version_minor": 0
      },
      "text/plain": [
       "HBox(children=(IntProgress(value=0, max=1000), HTML(value='')))"
      ]
     },
     "metadata": {},
     "output_type": "display_data"
    },
    {
     "data": {
      "application/vnd.jupyter.widget-view+json": {
       "model_id": "c17745250e20417c92e687c2c1ccb8f1",
       "version_major": 2,
       "version_minor": 0
      },
      "text/plain": [
       "HBox(children=(IntProgress(value=0, max=1000), HTML(value='')))"
      ]
     },
     "metadata": {},
     "output_type": "display_data"
    },
    {
     "data": {
      "application/vnd.jupyter.widget-view+json": {
       "model_id": "de78ac5f942544df9182efd79b08a583",
       "version_major": 2,
       "version_minor": 0
      },
      "text/plain": [
       "HBox(children=(IntProgress(value=0, max=1000), HTML(value='')))"
      ]
     },
     "metadata": {},
     "output_type": "display_data"
    },
    {
     "data": {
      "application/vnd.jupyter.widget-view+json": {
       "model_id": "b999d4d8237a450f8efc0ad1f0174c22",
       "version_major": 2,
       "version_minor": 0
      },
      "text/plain": [
       "HBox(children=(IntProgress(value=0, max=1000), HTML(value='')))"
      ]
     },
     "metadata": {},
     "output_type": "display_data"
    },
    {
     "data": {
      "application/vnd.jupyter.widget-view+json": {
       "model_id": "b27c12be239d4a87bf1cb09320d8372d",
       "version_major": 2,
       "version_minor": 0
      },
      "text/plain": [
       "HBox(children=(IntProgress(value=0, max=1000), HTML(value='')))"
      ]
     },
     "metadata": {},
     "output_type": "display_data"
    },
    {
     "data": {
      "application/vnd.jupyter.widget-view+json": {
       "model_id": "823715d6b81542fdb33225c22a9e72bc",
       "version_major": 2,
       "version_minor": 0
      },
      "text/plain": [
       "HBox(children=(IntProgress(value=0, max=1000), HTML(value='')))"
      ]
     },
     "metadata": {},
     "output_type": "display_data"
    }
   ],
   "source": [
    "gen_dataset(corpus, share, 50000, './tmp/dataset/protocol1/' + corpus_name);"
   ]
  },
  {
   "cell_type": "code",
   "execution_count": 62,
   "metadata": {},
   "outputs": [
    {
     "data": {
      "text/plain": [
       "{'learning': ['../corpora/picasso-corpus/data/9/SampleContactsActivity.java',\n",
       "  '../corpora/picasso-corpus/data/28/Callback.java',\n",
       "  '../corpora/picasso-corpus/data/40/PicassoProvider.java',\n",
       "  '../corpora/picasso-corpus/data/59/OkHttp3DownloaderTest.java',\n",
       "  '../corpora/picasso-corpus/data/19/AssetRequestHandler.java',\n",
       "  '../corpora/picasso-corpus/data/7/SampleScrollListener.java',\n",
       "  '../corpora/picasso-corpus/data/23/GetAction.java',\n",
       "  '../corpora/picasso-corpus/data/34/OkHttp3Downloader.java',\n",
       "  '../corpora/picasso-corpus/data/47/Stats.java',\n",
       "  '../corpora/picasso-corpus/data/31/MarkableInputStream.java',\n",
       "  '../corpora/picasso-corpus/data/53/UtilsTest.java',\n",
       "  '../corpora/picasso-corpus/data/50/Cache.java',\n",
       "  '../corpora/picasso-corpus/data/36/PicassoExecutorService.java',\n",
       "  '../corpora/picasso-corpus/data/54/TargetActionTest.java',\n",
       "  '../corpora/picasso-corpus/data/2/SampleGalleryActivity.java',\n",
       "  '../corpora/picasso-corpus/data/32/Downloader.java',\n",
       "  '../corpora/picasso-corpus/data/3/SquaredImageView.java',\n",
       "  '../corpora/picasso-corpus/data/61/DispatcherTest.java',\n",
       "  '../corpora/picasso-corpus/data/43/Action.java',\n",
       "  '../corpora/picasso-corpus/data/46/FileRequestHandler.java',\n",
       "  '../corpora/picasso-corpus/data/37/BitmapHunter.java',\n",
       "  '../corpora/picasso-corpus/data/16/ResourceRequestHandler.java',\n",
       "  '../corpora/picasso-corpus/data/24/NetworkPolicy.java',\n",
       "  '../corpora/picasso-corpus/data/12/SampleListDetailAdapter.java',\n",
       "  '../corpora/picasso-corpus/data/58/RemoteViewsActionTest.java',\n",
       "  '../corpora/picasso-corpus/data/11/SampleContactsAdapter.java',\n",
       "  '../corpora/picasso-corpus/data/30/ContentStreamRequestHandler.java',\n",
       "  '../corpora/picasso-corpus/data/5/SampleGridViewActivity.java',\n",
       "  '../corpora/picasso-corpus/data/56/MemoryPolicyTest.java',\n",
       "  '../corpora/picasso-corpus/data/21/RequestCreator.java',\n",
       "  '../corpora/picasso-corpus/data/8/SampleListDetailActivity.java',\n",
       "  '../corpora/picasso-corpus/data/1/PollexorRequestTransformerTest.java',\n",
       "  '../corpora/picasso-corpus/data/6/SampleGridViewAdapter.java',\n",
       "  '../corpora/picasso-corpus/data/49/PicassoDrawable.java',\n",
       "  '../corpora/picasso-corpus/data/20/ImageViewAction.java',\n",
       "  '../corpora/picasso-corpus/data/25/NetworkRequestHandler.java',\n",
       "  '../corpora/picasso-corpus/data/13/SampleWidgetProvider.java',\n",
       "  '../corpora/picasso-corpus/data/55/Shadows.java',\n",
       "  '../corpora/picasso-corpus/data/29/Picasso.java',\n",
       "  '../corpora/picasso-corpus/data/27/LruCache.java',\n",
       "  '../corpora/picasso-corpus/data/42/RemoteViewsAction.java',\n",
       "  '../corpora/picasso-corpus/data/18/ContactsPhotoRequestHandler.java',\n",
       "  '../corpora/picasso-corpus/data/39/Transformation.java',\n",
       "  '../corpora/picasso-corpus/data/52/AssetRequestHandlerTest.java',\n",
       "  '../corpora/picasso-corpus/data/57/RequestHandlerTest.java',\n",
       "  '../corpora/picasso-corpus/data/0/PollexorRequestTransformer.java',\n",
       "  '../corpora/picasso-corpus/data/14/PicassoSampleAdapter.java',\n",
       "  '../corpora/picasso-corpus/data/35/StatsSnapshot.java',\n",
       "  '../corpora/picasso-corpus/data/15/GrayscaleTransformation.java'],\n",
       " 'validation': ['../corpora/picasso-corpus/data/38/Target.java',\n",
       "  '../corpora/picasso-corpus/data/51/Request.java',\n",
       "  '../corpora/picasso-corpus/data/44/FetchAction.java',\n",
       "  '../corpora/picasso-corpus/data/10/Data.java',\n",
       "  '../corpora/picasso-corpus/data/45/MediaStoreRequestHandler.java',\n",
       "  '../corpora/picasso-corpus/data/48/TargetAction.java'],\n",
       " 'testing': ['../corpora/picasso-corpus/data/17/Utils.java',\n",
       "  '../corpora/picasso-corpus/data/41/Dispatcher.java',\n",
       "  '../corpora/picasso-corpus/data/33/RequestHandler.java',\n",
       "  '../corpora/picasso-corpus/data/4/PicassoSampleActivity.java',\n",
       "  '../corpora/picasso-corpus/data/22/MemoryPolicy.java',\n",
       "  '../corpora/picasso-corpus/data/26/DeferredRequestCreator.java',\n",
       "  '../corpora/picasso-corpus/data/60/TestTransformation.java']}"
      ]
     },
     "execution_count": 62,
     "metadata": {},
     "output_type": "execute_result"
    }
   ],
   "source": [
    "split_files(corpus, share)"
   ]
  },
  {
   "cell_type": "code",
   "execution_count": null,
   "metadata": {},
   "outputs": [],
   "source": []
  }
 ],
 "metadata": {
  "kernelspec": {
   "display_name": "Python 3",
   "language": "python",
   "name": "python3"
  },
  "language_info": {
   "codemirror_mode": {
    "name": "ipython",
    "version": 3
   },
   "file_extension": ".py",
   "mimetype": "text/x-python",
   "name": "python",
   "nbconvert_exporter": "python",
   "pygments_lexer": "ipython3",
   "version": "3.6.8"
  }
 },
 "nbformat": 4,
 "nbformat_minor": 2
}
