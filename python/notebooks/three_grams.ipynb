{
 "cells": [
  {
   "cell_type": "markdown",
   "metadata": {},
   "source": [
    "# Synthetic error injection\n",
    "\n",
    "## Load the 3 grams dataset"
   ]
  },
  {
   "cell_type": "code",
   "execution_count": 1,
   "metadata": {},
   "outputs": [],
   "source": [
    "import pandas as pd\n",
    "import random\n",
    "from tqdm import tqdm_notebook as tqdm"
   ]
  },
  {
   "cell_type": "code",
   "execution_count": 2,
   "metadata": {},
   "outputs": [],
   "source": [
    "import sys\n",
    "sys.path.insert(0, \"../\")"
   ]
  },
  {
   "cell_type": "code",
   "execution_count": 3,
   "metadata": {},
   "outputs": [
    {
     "data": {
      "text/html": [
       "<div>\n",
       "<style scoped>\n",
       "    .dataframe tbody tr th:only-of-type {\n",
       "        vertical-align: middle;\n",
       "    }\n",
       "\n",
       "    .dataframe tbody tr th {\n",
       "        vertical-align: top;\n",
       "    }\n",
       "\n",
       "    .dataframe thead th {\n",
       "        text-align: right;\n",
       "    }\n",
       "</style>\n",
       "<table border=\"1\" class=\"dataframe\">\n",
       "  <thead>\n",
       "    <tr style=\"text-align: right;\">\n",
       "      <th></th>\n",
       "      <th>token_1</th>\n",
       "      <th>ws</th>\n",
       "      <th>token_2</th>\n",
       "      <th>count</th>\n",
       "    </tr>\n",
       "  </thead>\n",
       "  <tbody>\n",
       "    <tr>\n",
       "      <th>0</th>\n",
       "      <td>Comment</td>\n",
       "      <td>1_NL</td>\n",
       "      <td>Comment</td>\n",
       "      <td>3282</td>\n",
       "    </tr>\n",
       "    <tr>\n",
       "      <th>1</th>\n",
       "      <td>Comment</td>\n",
       "      <td>1_NL</td>\n",
       "      <td>package</td>\n",
       "      <td>492</td>\n",
       "    </tr>\n",
       "    <tr>\n",
       "      <th>2</th>\n",
       "      <td>package</td>\n",
       "      <td>1_SP</td>\n",
       "      <td>Identifier</td>\n",
       "      <td>2083</td>\n",
       "    </tr>\n",
       "    <tr>\n",
       "      <th>3</th>\n",
       "      <td>Identifier</td>\n",
       "      <td>0_SP</td>\n",
       "      <td>.</td>\n",
       "      <td>135330</td>\n",
       "    </tr>\n",
       "    <tr>\n",
       "      <th>4</th>\n",
       "      <td>.</td>\n",
       "      <td>0_SP</td>\n",
       "      <td>Identifier</td>\n",
       "      <td>146617</td>\n",
       "    </tr>\n",
       "    <tr>\n",
       "      <th>5</th>\n",
       "      <td>Identifier</td>\n",
       "      <td>0_SP</td>\n",
       "      <td>;</td>\n",
       "      <td>28148</td>\n",
       "    </tr>\n",
       "    <tr>\n",
       "      <th>6</th>\n",
       "      <td>;</td>\n",
       "      <td>1_NL</td>\n",
       "      <td>EOF</td>\n",
       "      <td>4</td>\n",
       "    </tr>\n",
       "    <tr>\n",
       "      <th>7</th>\n",
       "      <td>;</td>\n",
       "      <td>2_NL</td>\n",
       "      <td>import</td>\n",
       "      <td>2961</td>\n",
       "    </tr>\n",
       "    <tr>\n",
       "      <th>8</th>\n",
       "      <td>import</td>\n",
       "      <td>1_SP</td>\n",
       "      <td>Identifier</td>\n",
       "      <td>15630</td>\n",
       "    </tr>\n",
       "    <tr>\n",
       "      <th>9</th>\n",
       "      <td>;</td>\n",
       "      <td>1_NL</td>\n",
       "      <td>import</td>\n",
       "      <td>13795</td>\n",
       "    </tr>\n",
       "  </tbody>\n",
       "</table>\n",
       "</div>"
      ],
      "text/plain": [
       "      token_1    ws     token_2   count\n",
       "0     Comment  1_NL     Comment    3282\n",
       "1     Comment  1_NL     package     492\n",
       "2     package  1_SP  Identifier    2083\n",
       "3  Identifier  0_SP           .  135330\n",
       "4           .  0_SP  Identifier  146617\n",
       "5  Identifier  0_SP           ;   28148\n",
       "6           ;  1_NL         EOF       4\n",
       "7           ;  2_NL      import    2961\n",
       "8      import  1_SP  Identifier   15630\n",
       "9           ;  1_NL      import   13795"
      ]
     },
     "execution_count": 3,
     "metadata": {},
     "output_type": "execute_result"
    }
   ],
   "source": [
    "df = pd.read_csv('../three_grams.csv')\n",
    "df.head(10)"
   ]
  },
  {
   "cell_type": "code",
   "execution_count": 4,
   "metadata": {},
   "outputs": [],
   "source": [
    "count_df = df.loc[:,['token_1', 'token_2', 'count']].groupby(['token_1', 'token_2']).agg(['count', 'sum'])"
   ]
  },
  {
   "cell_type": "code",
   "execution_count": 5,
   "metadata": {},
   "outputs": [],
   "source": [
    "count = count_df['count']['count']\n",
    "good_for_insertion = list(count[count>=2].index)"
   ]
  },
  {
   "cell_type": "code",
   "execution_count": 6,
   "metadata": {},
   "outputs": [],
   "source": [
    "good_for_insertion_index = []\n",
    "for index, (token_1, token_2) in df.loc[:,['token_1', 'token_2']].iterrows():\n",
    "    if (token_1, token_2) in good_for_insertion:\n",
    "        good_for_insertion_index.append(index)"
   ]
  },
  {
   "cell_type": "code",
   "execution_count": 7,
   "metadata": {},
   "outputs": [],
   "source": [
    "good_for_insertion_df = df.iloc[good_for_insertion_index ,:]"
   ]
  },
  {
   "cell_type": "code",
   "execution_count": 8,
   "metadata": {},
   "outputs": [],
   "source": [
    "good_for_insertion_set = set(\n",
    "    good_for_insertion\n",
    ")\n",
    "def is_good_for_insertion(token_a, token_b):\n",
    "    return (token_a, token_b) in good_for_insertion_set"
   ]
  },
  {
   "cell_type": "code",
   "execution_count": 9,
   "metadata": {},
   "outputs": [],
   "source": [
    "def list_alternatives_with_probability(token_a, ws, token_b):\n",
    "    df_token_1 = good_for_insertion_df[good_for_insertion_df.token_1 == token_a]\n",
    "    df_token_1_and_2 = df_token_1[df_token_1.token_2 == token_b]\n",
    "    final = df_token_1_and_2[df_token_1_and_2.ws != ws]\n",
    "    total = final['count'].sum()\n",
    "    return {\n",
    "        ws:count/total\n",
    "        for _, (_, ws, _, count) in final.iterrows()\n",
    "    }"
   ]
  },
  {
   "cell_type": "code",
   "execution_count": 10,
   "metadata": {},
   "outputs": [
    {
     "data": {
      "text/plain": [
       "{'2_NL': 0.6451612903225806,\n",
       " '2_NL_4_ID': 0.13978494623655913,\n",
       " '1_NL_8_ID': 0.010752688172043012,\n",
       " '3_NL': 0.010752688172043012,\n",
       " '1_NL_16_DD': 0.010752688172043012,\n",
       " '1_NL_4_DD': 0.053763440860215055,\n",
       " '2_NL_4_DD': 0.03225806451612903,\n",
       " '1_NL_8_DD': 0.03225806451612903,\n",
       " '2_NL_8_ID': 0.010752688172043012,\n",
       " '2_NL_8_DD': 0.010752688172043012,\n",
       " '1_NL_12_ID': 0.010752688172043012,\n",
       " '1_NL_2_ID': 0.010752688172043012,\n",
       " '1_NL_50_ID': 0.021505376344086023}"
      ]
     },
     "execution_count": 10,
     "metadata": {},
     "output_type": "execute_result"
    }
   ],
   "source": [
    "list_alternatives_with_probability('Comment', '1_NL', 'Comment')"
   ]
  },
  {
   "cell_type": "markdown",
   "metadata": {},
   "source": [
    "## Generation of a new source "
   ]
  },
  {
   "cell_type": "code",
   "execution_count": 11,
   "metadata": {},
   "outputs": [],
   "source": [
    "import java_lang_utils as jlu\n",
    "from core import *"
   ]
  },
  {
   "cell_type": "code",
   "execution_count": 12,
   "metadata": {},
   "outputs": [],
   "source": [
    "from ml import get_token_value, get_space_value\n",
    "from token_utils import whitespace_token_to_tuple"
   ]
  },
  {
   "cell_type": "code",
   "execution_count": 13,
   "metadata": {},
   "outputs": [],
   "source": [
    "from Corpus import Corpus"
   ]
  },
  {
   "cell_type": "code",
   "execution_count": 14,
   "metadata": {},
   "outputs": [],
   "source": [
    "corpus = Corpus('../corpora/repairnator-corpus/', 'repairnator')"
   ]
  },
  {
   "cell_type": "code",
   "execution_count": 15,
   "metadata": {},
   "outputs": [],
   "source": [
    "tokenizer = jlu.Tokenizer()\n",
    "tokenizer_absolute = jlu.Tokenizer(relative=False)"
   ]
  },
  {
   "cell_type": "code",
   "execution_count": 16,
   "metadata": {},
   "outputs": [
    {
     "data": {
      "text/plain": [
       "'../corpora/repairnator-corpus/data/35/GoogleSpreadSheetFactory.java'"
      ]
     },
     "execution_count": 16,
     "metadata": {},
     "output_type": "execute_result"
    }
   ],
   "source": [
    "file_dir = corpus.files[10][2]\n",
    "file_dir"
   ]
  },
  {
   "cell_type": "code",
   "execution_count": 17,
   "metadata": {},
   "outputs": [],
   "source": [
    "original_source = open_file(file_dir)"
   ]
  },
  {
   "cell_type": "code",
   "execution_count": 18,
   "metadata": {},
   "outputs": [],
   "source": [
    "def pick_random(alternatives):\n",
    "    random_number = random.random()\n",
    "    probability_sum = 0\n",
    "    for alternative, probability in alternatives.items():\n",
    "        probability_sum += probability\n",
    "        if random_number <= probability_sum:\n",
    "            return alternative\n",
    "    return None"
   ]
  },
  {
   "cell_type": "code",
   "execution_count": 19,
   "metadata": {},
   "outputs": [],
   "source": [
    "def get_line_indent(line):\n",
    "    indent = 0\n",
    "    for c in line:\n",
    "        if c == ' ':\n",
    "            indent+=1\n",
    "        else:\n",
    "            return indent"
   ]
  },
  {
   "cell_type": "code",
   "execution_count": 20,
   "metadata": {},
   "outputs": [],
   "source": [
    "def modify_source(source, n_insertion=1):\n",
    "    tokenized_source = tokenizer.tokenize(source)\n",
    "    tokenized_source_absolute = tokenizer_absolute.tokenize(source)\n",
    "    insertion_spots = list(range(len(tokenized_source.tokens)-1))\n",
    "    random.shuffle(insertion_spots)\n",
    "    modification = None\n",
    "    for spot in insertion_spots:\n",
    "        token_a = tokenized_source.tokens[spot]\n",
    "        token_b = tokenized_source.tokens[spot+1]\n",
    "        ws = tokenized_source.white_spaces[spot]\n",
    "        if is_good_for_insertion(get_token_value(token_a), get_token_value(token_b)):\n",
    "            alternatives = list_alternatives_with_probability(\n",
    "                get_token_value(token_a),\n",
    "                get_space_value(ws),\n",
    "                get_token_value(token_b)\n",
    "            )\n",
    "            alternative_selected = pick_random(alternatives)\n",
    "            alternative_selected_tuple = whitespace_token_to_tuple(alternative_selected)\n",
    "            new_ws = tokenized_source_absolute.white_spaces[spot]\n",
    "            if alternative_selected_tuple[0] == 0:\n",
    "                new_ws = alternative_selected_tuple\n",
    "            elif alternative_selected_tuple[0] != 0 and new_ws[0] == 0:\n",
    "                line = token_a.position[0]\n",
    "                indent = get_line_indent(source.split('\\n')[line-1])\n",
    "                new_ws = (alternative_selected_tuple[0], indent + alternative_selected_tuple[1])\n",
    "            else:\n",
    "                new_ws = (alternative_selected_tuple[0], new_ws[1] + (alternative_selected_tuple[1] - ws[1]))\n",
    "            if new_ws[1]>=0:\n",
    "                tokenized_source_absolute.white_spaces[spot] = new_ws\n",
    "                modification = {\n",
    "                    'token_a': get_token_value(token_a),\n",
    "                    'token_b': get_token_value(token_b),\n",
    "                    'modification': (get_space_value(ws), alternative_selected),\n",
    "                    'position': spot\n",
    "                }\n",
    "                break\n",
    "    return tokenized_source_absolute.reformat(), modification"
   ]
  },
  {
   "cell_type": "code",
   "execution_count": 21,
   "metadata": {},
   "outputs": [],
   "source": [
    "injection_operator_types={\n",
    "    'insertion-space': (1,0,0,0,0),\n",
    "    'insertion-tab': (0,1,0,0,0),\n",
    "    'insertion-newline': (0,0,1,0,0),\n",
    "    'deletion-space': (0,0,0,1,0),\n",
    "    'deletion-newline': (0,0,0,0,1)\n",
    "}\n",
    "injection_operator_pool = [\n",
    "    'insertion-space',\n",
    "    'insertion-tab',\n",
    "    'insertion-newline',\n",
    "    'deletion-space',\n",
    "    'deletion-newline',\n",
    "    'insertion-space',\n",
    "    'insertion-newline',\n",
    "    'deletion-space',\n",
    "    'deletion-newline',\n",
    "    'insertion-space',\n",
    "    'insertion-newline',\n",
    "    'deletion-space',\n",
    "    'deletion-newline'\n",
    "]\n",
    "\n",
    "class InsertionException(Exception):\n",
    "    pass\n",
    "\n",
    "def modify_source(source):\n",
    "    if not jlu.check_source_well_formed(source):\n",
    "        raise InsertionException\n",
    "    while True:\n",
    "        injection_operation = random.choice(injection_operator_pool)\n",
    "        ugly_content, modification = jlu.gen_ugly_from_source(source, modification_number=injection_operator_types[injection_operation])\n",
    "        if not jlu.check_source_well_formed(ugly_content):\n",
    "            continue\n",
    "        spaces_original, tokens_original = jlu.tokenize_with_white_space(source)\n",
    "        spaces_errored, tokens_errored = jlu.tokenize_with_white_space(ugly_content)\n",
    "        if len(tokens_original) != len(tokens_errored):\n",
    "            continue\n",
    "        return ugly_content, (modification, injection_operation)"
   ]
  },
  {
   "cell_type": "code",
   "execution_count": 22,
   "metadata": {},
   "outputs": [],
   "source": [
    "t = tokenizer_absolute.tokenize(original_source)"
   ]
  },
  {
   "cell_type": "code",
   "execution_count": 23,
   "metadata": {},
   "outputs": [],
   "source": [
    "def diff(file_A, file_B, unified=True):\n",
    "    if unified:\n",
    "        cmd = 'diff -u {} {}'.format(file_A, file_B)\n",
    "    else:\n",
    "        cmd = 'diff {} {}'.format(file_A, file_B)\n",
    "    process = subprocess.Popen(cmd.split(\" \"), stdout=subprocess.PIPE)\n",
    "    output = process.communicate()[0]\n",
    "    return output.decode(\"utf-8\")"
   ]
  },
  {
   "cell_type": "code",
   "execution_count": 24,
   "metadata": {},
   "outputs": [
    {
     "name": "stdout",
     "output_type": "stream",
     "text": [
      "--- ./tmp/orig.java\t2019-10-11 17:09:00.301127618 +0000\n",
      "+++ ./tmp/modif.java\t2019-10-11 17:09:00.301127618 +0000\n",
      "@@ -4,7 +4,8 @@\n",
      " import com.google.api.client.extensions.java6.auth.oauth2.AuthorizationCodeInstalledApp;\n",
      " import com.google.api.client.extensions.jetty.auth.oauth2.LocalServerReceiver;\n",
      " import com.google.api.client.googleapis.auth.oauth2.GoogleAuthorizationCodeFlow;\n",
      "-import com.google.api.client.googleapis.auth.oauth2.GoogleClientSecrets;\n",
      "+import com.google.api.client\n",
      "+.googleapis.auth.oauth2.GoogleClientSecrets;\n",
      " import com.google.api.client.googleapis.javanet.GoogleNetHttpTransport;\n",
      " import com.google.api.client.http.HttpTransport;\n",
      " import com.google.api.client.json.jackson2.JacksonFactory;\n",
      "@@ -99,3 +100,4 @@\n",
      "     }\n",
      " \n",
      " }\n",
      "+\n",
      "\n"
     ]
    }
   ],
   "source": [
    "modified_source, _ = modify_source(original_source)\n",
    "file_A = save_file('./tmp/', 'orig.java', original_source)\n",
    "file_B = save_file('./tmp/', 'modif.java', modified_source)\n",
    "print(diff(file_A, file_B))"
   ]
  },
  {
   "cell_type": "markdown",
   "metadata": {},
   "source": [
    "## Generation of errors\n",
    "\n",
    "### Batches"
   ]
  },
  {
   "cell_type": "code",
   "execution_count": 25,
   "metadata": {},
   "outputs": [],
   "source": [
    "import uuid\n",
    "import checkstyle\n",
    "import shutil"
   ]
  },
  {
   "cell_type": "code",
   "execution_count": 26,
   "metadata": {},
   "outputs": [],
   "source": [
    "corpus_name = 'be5'"
   ]
  },
  {
   "cell_type": "code",
   "execution_count": 27,
   "metadata": {},
   "outputs": [],
   "source": [
    "corpus = Corpus(f'../corpora/{corpus_name}-corpus/', corpus_name)\n",
    "BATCH_SIZE = 500"
   ]
  },
  {
   "cell_type": "code",
   "execution_count": 28,
   "metadata": {},
   "outputs": [],
   "source": [
    "share = {\n",
    "    'learning': 0.8,\n",
    "    'validation': 0.1,\n",
    "    'testing': 0.1\n",
    "}"
   ]
  },
  {
   "cell_type": "code",
   "execution_count": 29,
   "metadata": {},
   "outputs": [],
   "source": [
    "def split_files(corpus, share, random_state=100):\n",
    "    files_list = [file for (_,_,file) in corpus.files.values()]\n",
    "    n_files = len(files_list)\n",
    "    random.seed(random_state)\n",
    "    random.shuffle(files_list)\n",
    "    c_learning = int(share['learning']*n_files)\n",
    "    c_validation = int(share['validation']*n_files)\n",
    "    return {\n",
    "        'learning': files_list[:c_learning],\n",
    "        'validation': files_list[c_learning: c_learning+c_validation],\n",
    "        'testing': files_list[c_learning+c_validation:]\n",
    "    }"
   ]
  },
  {
   "cell_type": "code",
   "execution_count": 30,
   "metadata": {},
   "outputs": [],
   "source": [
    "class Batch:\n",
    "    def __init__(self, files_dir, checkstyle_dir, batch_id=None):\n",
    "        self.checkstyle_dir = checkstyle_dir\n",
    "        if batch_id == None:\n",
    "            self.batch_id = uuid.uuid4().hex\n",
    "        else:\n",
    "            self.batch_id = batch_id\n",
    "        self.batch_files = [random.choice(files_dir) for _ in range(BATCH_SIZE)]\n",
    "        self.batch_dir = f'./tmp/{self.batch_id}'\n",
    "    \n",
    "    def gen(self):\n",
    "        create_dir(self.batch_dir)\n",
    "        self.batch_injections = {}\n",
    "        for index, file_dir in tqdm(enumerate(self.batch_files), total=BATCH_SIZE):\n",
    "            file_name = file_dir.split('/')[-1]\n",
    "            original_source = open_file(file_dir)\n",
    "            try:\n",
    "                modified_source, modification = modify_source(original_source)\n",
    "            except InsertionException:\n",
    "                continue\n",
    "            modification_folder = os.path.join(self.batch_dir, str(index))\n",
    "            create_dir(modification_folder)\n",
    "            modified_file_dir = save_file(modification_folder, file_name, modified_source)\n",
    "            \n",
    "            diff_str = diff(file_dir, modified_file_dir)\n",
    "            diff_path = save_file(modification_folder, 'diff.diff', diff_str)\n",
    "            self.batch_injections[index] = {\n",
    "                'modification': modification,\n",
    "                'diff': diff_str,\n",
    "                'dir': modification_folder,\n",
    "                'orig': file_dir,\n",
    "                'file_name': file_name\n",
    "            }\n",
    "        self.checkstyle_result, _ = checkstyle.check(\n",
    "            self.checkstyle_dir,\n",
    "            self.batch_dir,\n",
    "            checkstyle_jar=\"../../jars/checkstyle-8.12-all.jar\",\n",
    "            only_java=True\n",
    "        )\n",
    "        for file_dir, res in self.checkstyle_result.items():\n",
    "            index = int(file_dir.split('/')[-2])\n",
    "            self.batch_injections[index]['errors'] = res['errors']\n",
    "            save_json(self.batch_injections[index]['dir'], 'errors.json', res['errors'])\n",
    "        self.batch_information = {\n",
    "            'batch_id': self.batch_id,\n",
    "            'injection_report': self.batch_injections\n",
    "        }\n",
    "        save_json(self.batch_dir, 'metadata.json', self.batch_information)\n",
    "        return self.batch_information\n",
    "    \n",
    "    def clean(self):\n",
    "        shutil.rmtree(self.batch_dir)"
   ]
  },
  {
   "cell_type": "code",
   "execution_count": 31,
   "metadata": {},
   "outputs": [
    {
     "data": {
      "text/plain": [
       "'../corpora/be5-corpus/checkstyle.xml'"
      ]
     },
     "execution_count": 31,
     "metadata": {},
     "output_type": "execute_result"
    }
   ],
   "source": [
    "corpus.checkstyle"
   ]
  },
  {
   "cell_type": "code",
   "execution_count": 56,
   "metadata": {},
   "outputs": [],
   "source": [
    "batch = Batch(split_files(corpus, share)['learning'], corpus.checkstyle)"
   ]
  },
  {
   "cell_type": "code",
   "execution_count": 75,
   "metadata": {},
   "outputs": [
    {
     "name": "stderr",
     "output_type": "stream",
     "text": [
      "\n",
      "\n",
      "  0%|          | 0/100 [00:00<?, ?it/s]\u001b[A\u001b[A\n",
      "\n",
      "  1%|          | 1/100 [00:00<00:22,  4.31it/s]\u001b[A\u001b[A\n",
      "\n",
      "  8%|▊         | 8/100 [00:00<00:15,  5.98it/s]\u001b[A\u001b[A\n",
      "\n",
      " 14%|█▍        | 14/100 [00:00<00:10,  8.16it/s]\u001b[A\u001b[A\n",
      "\n",
      " 20%|██        | 20/100 [00:00<00:07, 10.95it/s]\u001b[A\u001b[A\n",
      "\n",
      " 24%|██▍       | 24/100 [00:00<00:05, 13.31it/s]\u001b[A\u001b[A\n",
      "\n",
      " 28%|██▊       | 28/100 [00:00<00:04, 16.58it/s]\u001b[A\u001b[A\n",
      "\n",
      " 32%|███▏      | 32/100 [00:01<00:04, 16.86it/s]\u001b[A\u001b[A\n",
      "\n",
      " 38%|███▊      | 38/100 [00:01<00:03, 20.04it/s]\u001b[A\u001b[A\n",
      "\n",
      " 42%|████▏     | 42/100 [00:01<00:02, 19.65it/s]\u001b[A\u001b[A\n",
      "\n",
      " 45%|████▌     | 45/100 [00:01<00:03, 16.47it/s]\u001b[A\u001b[A\n",
      "\n",
      " 49%|████▉     | 49/100 [00:01<00:02, 19.82it/s]\u001b[A\u001b[A\n",
      "\n",
      " 54%|█████▍    | 54/100 [00:01<00:02, 21.40it/s]\u001b[A\u001b[A\n",
      "\n",
      " 60%|██████    | 60/100 [00:02<00:01, 26.23it/s]\u001b[A\u001b[A\n",
      "\n",
      " 64%|██████▍   | 64/100 [00:02<00:01, 25.56it/s]\u001b[A\u001b[A\n",
      "\n",
      " 69%|██████▉   | 69/100 [00:02<00:01, 29.80it/s]\u001b[A\u001b[A\n",
      "\n",
      " 75%|███████▌  | 75/100 [00:02<00:00, 34.21it/s]\u001b[A\u001b[A\n",
      "\n",
      " 82%|████████▏ | 82/100 [00:02<00:00, 39.88it/s]\u001b[A\u001b[A\n",
      "\n",
      " 87%|████████▋ | 87/100 [00:02<00:00, 29.19it/s]\u001b[A\u001b[A\n",
      "\n",
      " 91%|█████████ | 91/100 [00:03<00:00, 25.61it/s]\u001b[A\u001b[A\n",
      "\n",
      " 95%|█████████▌| 95/100 [00:03<00:00, 27.07it/s]\u001b[A\u001b[A\n",
      "\n",
      " 99%|█████████▉| 99/100 [00:03<00:00, 27.03it/s]\u001b[A\u001b[A\n",
      "\n",
      "100%|██████████| 100/100 [00:03<00:00, 29.86it/s]\u001b[A\u001b[A"
     ]
    }
   ],
   "source": [
    "batch_res = batch.gen();"
   ]
  },
  {
   "cell_type": "code",
   "execution_count": 76,
   "metadata": {},
   "outputs": [],
   "source": [
    "errors_type = [\n",
    "    info['errors'][0]['source'].split('.')[-1] \n",
    "    for info in batch_res['injection_report'].values() \n",
    "    if len(info['errors']) == 1\n",
    "]"
   ]
  },
  {
   "cell_type": "code",
   "execution_count": 77,
   "metadata": {},
   "outputs": [
    {
     "name": "stdout",
     "output_type": "stream",
     "text": [
      "total number of files with a single errors 30 ()\n"
     ]
    }
   ],
   "source": [
    "print(f'total number of files with a single errors {len(errors_type)} ()')"
   ]
  },
  {
   "cell_type": "code",
   "execution_count": 78,
   "metadata": {},
   "outputs": [],
   "source": [
    "from collections import Counter"
   ]
  },
  {
   "cell_type": "code",
   "execution_count": 79,
   "metadata": {},
   "outputs": [
    {
     "data": {
      "text/plain": [
       "Counter({'FileTabCharacterCheck': 13,\n",
       "         'ParenPadCheck': 1,\n",
       "         'WhitespaceAroundCheck': 5,\n",
       "         'LineLengthCheck': 2,\n",
       "         'WhitespaceAfterCheck': 2,\n",
       "         'RegexpSinglelineCheck': 3,\n",
       "         'MethodParamPadCheck': 3,\n",
       "         'LeftCurlyCheck': 1})"
      ]
     },
     "execution_count": 79,
     "metadata": {},
     "output_type": "execute_result"
    }
   ],
   "source": [
    "error_type_count = Counter(errors_type)\n",
    "error_type_count"
   ]
  },
  {
   "cell_type": "code",
   "execution_count": 80,
   "metadata": {},
   "outputs": [],
   "source": [
    "import matplotlib.pyplot as plt\n",
    "%matplotlib inline"
   ]
  },
  {
   "cell_type": "code",
   "execution_count": 81,
   "metadata": {},
   "outputs": [],
   "source": [
    "col_names, values = tuple(zip(*list(error_type_count.items())))"
   ]
  },
  {
   "cell_type": "code",
   "execution_count": 82,
   "metadata": {},
   "outputs": [
    {
     "data": {
      "image/png": "[encoded data removed]",
      "text/plain": [
       "<Figure size 432x288 with 1 Axes>"
      ]
     },
     "metadata": {
      "needs_background": "light"
     },
     "output_type": "display_data"
    }
   ],
   "source": [
    "fig = plt.figure()\n",
    "\n",
    "y_pos = list(range((len(col_names))))\n",
    "\n",
    "plt.bar(y_pos, values)\n",
    "\n",
    "plt.xticks(y_pos, col_names,rotation='vertical')\n",
    "\n",
    "plt.show()"
   ]
  },
  {
   "cell_type": "markdown",
   "metadata": {},
   "source": [
    "### Dataset"
   ]
  },
  {
   "cell_type": "code",
   "execution_count": 32,
   "metadata": {},
   "outputs": [],
   "source": [
    "from tqdm import tqdm_notebook as tqdm\n",
    "def gen_errors(files_dir, checkstyle_dir, target, number_of_errors):\n",
    "    valid_errors = []\n",
    "    batches = []\n",
    "    with tqdm(total=number_of_errors) as pbar:\n",
    "        while len(valid_errors) < number_of_errors:\n",
    "            batch = Batch(files_dir, checkstyle_dir)\n",
    "            batches.append(batch)\n",
    "            try:\n",
    "                batch_res = batch.gen()\n",
    "            except KeyboardInterrupt:\n",
    "                raise KeyboardInterrupt\n",
    "            except: # UnicodeEncodeError\n",
    "                continue\n",
    "            batch_valid_errors = [\n",
    "                info\n",
    "                for info in batch_res['injection_report'].values() \n",
    "                if len(info['errors']) == 1\n",
    "            ]\n",
    "            valid_errors += batch_valid_errors\n",
    "            pbar.update(len(batch_valid_errors))\n",
    "    selected_errors = random.sample(valid_errors, number_of_errors)\n",
    "    for error_id, error_metadata in enumerate(selected_errors):\n",
    "        new_error_dir = os.path.join(target, str(error_id))\n",
    "        old_dir = error_metadata['dir']\n",
    "        shutil.move(old_dir, new_error_dir)\n",
    "        error_metadata['dir'] = new_error_dir\n",
    "        error_metadata['error'] = error_metadata['errors'][0]\n",
    "        error_metadata['error']['type'] = checkstyle_source_to_error_type(error_metadata['error']['source'])\n",
    "        \n",
    "        file_name = error_metadata['file_name']\n",
    "        orig_file_name = '.'.join(file_name.split('.')[:-1]) + '-orig.java'\n",
    "        shutil.copy(error_metadata['orig'], os.path.join(new_error_dir, orig_file_name))\n",
    "        \n",
    "        save_json(new_error_dir, 'metadata.json', error_metadata)\n",
    "    for batch in batches:\n",
    "        batch.clean()\n",
    "    return selected_errors"
   ]
  },
  {
   "cell_type": "code",
   "execution_count": 33,
   "metadata": {},
   "outputs": [
    {
     "data": {
      "application/vnd.jupyter.widget-view+json": {
       "model_id": "a494ca0c0d4445428641188e4405fb75",
       "version_major": 2,
       "version_minor": 0
      },
      "text/plain": [
       "HBox(children=(IntProgress(value=0, max=1000), HTML(value='')))"
      ]
     },
     "metadata": {},
     "output_type": "display_data"
    },
    {
     "data": {
      "application/vnd.jupyter.widget-view+json": {
       "model_id": "32bfd0cb54e949bfb16a665342dcf172",
       "version_major": 2,
       "version_minor": 0
      },
      "text/plain": [
       "HBox(children=(IntProgress(value=0, max=500), HTML(value='')))"
      ]
     },
     "metadata": {},
     "output_type": "display_data"
    },
    {
     "name": "stdout",
     "output_type": "stream",
     "text": [
      "\n"
     ]
    },
    {
     "ename": "KeyboardInterrupt",
     "evalue": "",
     "output_type": "error",
     "traceback": [
      "\u001b[0;31m---------------------------------------------------------------------------\u001b[0m",
      "\u001b[0;31mKeyboardInterrupt\u001b[0m                         Traceback (most recent call last)",
      "\u001b[0;32m<ipython-input-32-2360e7b1fd56>\u001b[0m in \u001b[0;36mgen_errors\u001b[0;34m(files_dir, checkstyle_dir, target, number_of_errors)\u001b[0m\n\u001b[1;32m      9\u001b[0m             \u001b[0;32mtry\u001b[0m\u001b[0;34m:\u001b[0m\u001b[0;34m\u001b[0m\u001b[0;34m\u001b[0m\u001b[0m\n\u001b[0;32m---> 10\u001b[0;31m                 \u001b[0mbatch_res\u001b[0m \u001b[0;34m=\u001b[0m \u001b[0mbatch\u001b[0m\u001b[0;34m.\u001b[0m\u001b[0mgen\u001b[0m\u001b[0;34m(\u001b[0m\u001b[0;34m)\u001b[0m\u001b[0;34m\u001b[0m\u001b[0;34m\u001b[0m\u001b[0m\n\u001b[0m\u001b[1;32m     11\u001b[0m             \u001b[0;32mexcept\u001b[0m \u001b[0mKeyboardInterrupt\u001b[0m\u001b[0;34m:\u001b[0m\u001b[0;34m\u001b[0m\u001b[0;34m\u001b[0m\u001b[0m\n",
      "\u001b[0;32m<ipython-input-30-ab778060a149>\u001b[0m in \u001b[0;36mgen\u001b[0;34m(self)\u001b[0m\n\u001b[1;32m     17\u001b[0m             \u001b[0;32mtry\u001b[0m\u001b[0;34m:\u001b[0m\u001b[0;34m\u001b[0m\u001b[0;34m\u001b[0m\u001b[0m\n\u001b[0;32m---> 18\u001b[0;31m                 \u001b[0mmodified_source\u001b[0m\u001b[0;34m,\u001b[0m \u001b[0mmodification\u001b[0m \u001b[0;34m=\u001b[0m \u001b[0mmodify_source\u001b[0m\u001b[0;34m(\u001b[0m\u001b[0moriginal_source\u001b[0m\u001b[0;34m)\u001b[0m\u001b[0;34m\u001b[0m\u001b[0;34m\u001b[0m\u001b[0m\n\u001b[0m\u001b[1;32m     19\u001b[0m             \u001b[0;32mexcept\u001b[0m \u001b[0mInsertionException\u001b[0m\u001b[0;34m:\u001b[0m\u001b[0;34m\u001b[0m\u001b[0;34m\u001b[0m\u001b[0m\n",
      "\u001b[0;32m<ipython-input-21-e36f842c04cb>\u001b[0m in \u001b[0;36mmodify_source\u001b[0;34m(source)\u001b[0m\n\u001b[1;32m     35\u001b[0m         \u001b[0mspaces_original\u001b[0m\u001b[0;34m,\u001b[0m \u001b[0mtokens_original\u001b[0m \u001b[0;34m=\u001b[0m \u001b[0mjlu\u001b[0m\u001b[0;34m.\u001b[0m\u001b[0mtokenize_with_white_space\u001b[0m\u001b[0;34m(\u001b[0m\u001b[0msource\u001b[0m\u001b[0;34m)\u001b[0m\u001b[0;34m\u001b[0m\u001b[0;34m\u001b[0m\u001b[0m\n\u001b[0;32m---> 36\u001b[0;31m         \u001b[0mspaces_errored\u001b[0m\u001b[0;34m,\u001b[0m \u001b[0mtokens_errored\u001b[0m \u001b[0;34m=\u001b[0m \u001b[0mjlu\u001b[0m\u001b[0;34m.\u001b[0m\u001b[0mtokenize_with_white_space\u001b[0m\u001b[0;34m(\u001b[0m\u001b[0mugly_content\u001b[0m\u001b[0;34m)\u001b[0m\u001b[0;34m\u001b[0m\u001b[0;34m\u001b[0m\u001b[0m\n\u001b[0m\u001b[1;32m     37\u001b[0m         \u001b[0;32mif\u001b[0m \u001b[0mlen\u001b[0m\u001b[0;34m(\u001b[0m\u001b[0mtokens_original\u001b[0m\u001b[0;34m)\u001b[0m \u001b[0;34m!=\u001b[0m \u001b[0mlen\u001b[0m\u001b[0;34m(\u001b[0m\u001b[0mtokens_errored\u001b[0m\u001b[0;34m)\u001b[0m\u001b[0;34m:\u001b[0m\u001b[0;34m\u001b[0m\u001b[0;34m\u001b[0m\u001b[0m\n",
      "\u001b[0;32m~/Documents/styler/python/java_lang_utils.py\u001b[0m in \u001b[0;36mtokenize_with_white_space\u001b[0;34m(file_content, relative, new_line_at_the_end_of_file)\u001b[0m\n\u001b[1;32m    339\u001b[0m     \u001b[0mtokens\u001b[0m \u001b[0;34m=\u001b[0m \u001b[0mtokenizer\u001b[0m\u001b[0;34m.\u001b[0m\u001b[0mtokenize\u001b[0m\u001b[0;34m(\u001b[0m\u001b[0mfile_content\u001b[0m\u001b[0;34m,\u001b[0m \u001b[0mparse_comments\u001b[0m\u001b[0;34m=\u001b[0m\u001b[0;32mTrue\u001b[0m\u001b[0;34m)\u001b[0m\u001b[0;34m\u001b[0m\u001b[0;34m\u001b[0m\u001b[0m\n\u001b[0;32m--> 340\u001b[0;31m     \u001b[0mtokens\u001b[0m \u001b[0;34m=\u001b[0m \u001b[0;34m[\u001b[0m \u001b[0mt\u001b[0m \u001b[0;32mfor\u001b[0m \u001b[0mt\u001b[0m \u001b[0;32min\u001b[0m \u001b[0mtokens\u001b[0m\u001b[0;34m]\u001b[0m\u001b[0;34m\u001b[0m\u001b[0;34m\u001b[0m\u001b[0m\n\u001b[0m\u001b[1;32m    341\u001b[0m     \u001b[0mwhitespace\u001b[0m \u001b[0;34m=\u001b[0m \u001b[0mlist\u001b[0m\u001b[0;34m(\u001b[0m\u001b[0;34m)\u001b[0m\u001b[0;34m\u001b[0m\u001b[0;34m\u001b[0m\u001b[0m\n",
      "\u001b[0;32m~/Documents/styler/python/java_lang_utils.py\u001b[0m in \u001b[0;36m<listcomp>\u001b[0;34m(.0)\u001b[0m\n\u001b[1;32m    339\u001b[0m     \u001b[0mtokens\u001b[0m \u001b[0;34m=\u001b[0m \u001b[0mtokenizer\u001b[0m\u001b[0;34m.\u001b[0m\u001b[0mtokenize\u001b[0m\u001b[0;34m(\u001b[0m\u001b[0mfile_content\u001b[0m\u001b[0;34m,\u001b[0m \u001b[0mparse_comments\u001b[0m\u001b[0;34m=\u001b[0m\u001b[0;32mTrue\u001b[0m\u001b[0;34m)\u001b[0m\u001b[0;34m\u001b[0m\u001b[0;34m\u001b[0m\u001b[0m\n\u001b[0;32m--> 340\u001b[0;31m     \u001b[0mtokens\u001b[0m \u001b[0;34m=\u001b[0m \u001b[0;34m[\u001b[0m \u001b[0mt\u001b[0m \u001b[0;32mfor\u001b[0m \u001b[0mt\u001b[0m \u001b[0;32min\u001b[0m \u001b[0mtokens\u001b[0m\u001b[0;34m]\u001b[0m\u001b[0;34m\u001b[0m\u001b[0;34m\u001b[0m\u001b[0m\n\u001b[0m\u001b[1;32m    341\u001b[0m     \u001b[0mwhitespace\u001b[0m \u001b[0;34m=\u001b[0m \u001b[0mlist\u001b[0m\u001b[0;34m(\u001b[0m\u001b[0;34m)\u001b[0m\u001b[0;34m\u001b[0m\u001b[0;34m\u001b[0m\u001b[0m\n",
      "\u001b[0;32m~/Documents/styler/python/venv/src/javalang/javalang/tokenizer.py\u001b[0m in \u001b[0;36mtokenize\u001b[0;34m(self)\u001b[0m\n\u001b[1;32m    588\u001b[0m             \u001b[0;32melif\u001b[0m \u001b[0mself\u001b[0m\u001b[0;34m.\u001b[0m\u001b[0mis_java_identifier_start\u001b[0m\u001b[0;34m(\u001b[0m\u001b[0mc\u001b[0m\u001b[0;34m)\u001b[0m\u001b[0;34m:\u001b[0m\u001b[0;34m\u001b[0m\u001b[0;34m\u001b[0m\u001b[0m\n\u001b[0;32m--> 589\u001b[0;31m                 \u001b[0mtoken_type\u001b[0m \u001b[0;34m=\u001b[0m \u001b[0mself\u001b[0m\u001b[0;34m.\u001b[0m\u001b[0mread_identifier\u001b[0m\u001b[0;34m(\u001b[0m\u001b[0;34m)\u001b[0m\u001b[0;34m\u001b[0m\u001b[0;34m\u001b[0m\u001b[0m\n\u001b[0m\u001b[1;32m    590\u001b[0m \u001b[0;34m\u001b[0m\u001b[0m\n",
      "\u001b[0;32m~/Documents/styler/python/venv/src/javalang/javalang/tokenizer.py\u001b[0m in \u001b[0;36mread_identifier\u001b[0;34m(self)\u001b[0m\n\u001b[1;32m    450\u001b[0m \u001b[0;34m\u001b[0m\u001b[0m\n\u001b[0;32m--> 451\u001b[0;31m         \u001b[0;32mwhile\u001b[0m \u001b[0mself\u001b[0m\u001b[0;34m.\u001b[0m\u001b[0mj\u001b[0m \u001b[0;34m<\u001b[0m \u001b[0mlen\u001b[0m\u001b[0;34m(\u001b[0m\u001b[0mself\u001b[0m\u001b[0;34m.\u001b[0m\u001b[0mdata\u001b[0m\u001b[0;34m)\u001b[0m \u001b[0;32mand\u001b[0m \u001b[0municodedata\u001b[0m\u001b[0;34m.\u001b[0m\u001b[0mcategory\u001b[0m\u001b[0;34m(\u001b[0m\u001b[0mself\u001b[0m\u001b[0;34m.\u001b[0m\u001b[0mdata\u001b[0m\u001b[0;34m[\u001b[0m\u001b[0mself\u001b[0m\u001b[0;34m.\u001b[0m\u001b[0mj\u001b[0m\u001b[0;34m]\u001b[0m\u001b[0;34m)\u001b[0m \u001b[0;32min\u001b[0m \u001b[0mself\u001b[0m\u001b[0;34m.\u001b[0m\u001b[0mIDENT_PART_CATEGORIES\u001b[0m\u001b[0;34m:\u001b[0m\u001b[0;34m\u001b[0m\u001b[0;34m\u001b[0m\u001b[0m\n\u001b[0m\u001b[1;32m    452\u001b[0m             \u001b[0mself\u001b[0m\u001b[0;34m.\u001b[0m\u001b[0mj\u001b[0m \u001b[0;34m+=\u001b[0m \u001b[0;36m1\u001b[0m\u001b[0;34m\u001b[0m\u001b[0;34m\u001b[0m\u001b[0m\n",
      "\u001b[0;31mKeyboardInterrupt\u001b[0m: ",
      "\nDuring handling of the above exception, another exception occurred:\n",
      "\u001b[0;31mKeyboardInterrupt\u001b[0m                         Traceback (most recent call last)",
      "\u001b[0;32m<ipython-input-33-1b75d349ca47>\u001b[0m in \u001b[0;36m<module>\u001b[0;34m()\u001b[0m\n\u001b[0;32m----> 1\u001b[0;31m \u001b[0mgen_errors\u001b[0m\u001b[0;34m(\u001b[0m\u001b[0msplit_files\u001b[0m\u001b[0;34m(\u001b[0m\u001b[0mcorpus\u001b[0m\u001b[0;34m,\u001b[0m \u001b[0mshare\u001b[0m\u001b[0;34m)\u001b[0m\u001b[0;34m[\u001b[0m\u001b[0;34m'learning'\u001b[0m\u001b[0;34m]\u001b[0m\u001b[0;34m,\u001b[0m \u001b[0mcorpus\u001b[0m\u001b[0;34m.\u001b[0m\u001b[0mcheckstyle\u001b[0m\u001b[0;34m,\u001b[0m \u001b[0;34m'./tmp/dataset'\u001b[0m\u001b[0;34m,\u001b[0m \u001b[0;36m1000\u001b[0m\u001b[0;34m)\u001b[0m\u001b[0;34m;\u001b[0m\u001b[0;34m\u001b[0m\u001b[0;34m\u001b[0m\u001b[0m\n\u001b[0m",
      "\u001b[0;32m<ipython-input-32-2360e7b1fd56>\u001b[0m in \u001b[0;36mgen_errors\u001b[0;34m(files_dir, checkstyle_dir, target, number_of_errors)\u001b[0m\n\u001b[1;32m     10\u001b[0m                 \u001b[0mbatch_res\u001b[0m \u001b[0;34m=\u001b[0m \u001b[0mbatch\u001b[0m\u001b[0;34m.\u001b[0m\u001b[0mgen\u001b[0m\u001b[0;34m(\u001b[0m\u001b[0;34m)\u001b[0m\u001b[0;34m\u001b[0m\u001b[0;34m\u001b[0m\u001b[0m\n\u001b[1;32m     11\u001b[0m             \u001b[0;32mexcept\u001b[0m \u001b[0mKeyboardInterrupt\u001b[0m\u001b[0;34m:\u001b[0m\u001b[0;34m\u001b[0m\u001b[0;34m\u001b[0m\u001b[0m\n\u001b[0;32m---> 12\u001b[0;31m                 \u001b[0;32mraise\u001b[0m \u001b[0mKeyboardInterrupt\u001b[0m\u001b[0;34m\u001b[0m\u001b[0;34m\u001b[0m\u001b[0m\n\u001b[0m\u001b[1;32m     13\u001b[0m             \u001b[0;32mexcept\u001b[0m\u001b[0;34m:\u001b[0m \u001b[0;31m# UnicodeEncodeError\u001b[0m\u001b[0;34m\u001b[0m\u001b[0;34m\u001b[0m\u001b[0m\n\u001b[1;32m     14\u001b[0m                 \u001b[0;32mcontinue\u001b[0m\u001b[0;34m\u001b[0m\u001b[0;34m\u001b[0m\u001b[0m\n",
      "\u001b[0;31mKeyboardInterrupt\u001b[0m: "
     ]
    }
   ],
   "source": [
    "gen_errors(split_files(corpus, share)['learning'], corpus.checkstyle, './tmp/dataset', 1000);"
   ]
  },
  {
   "cell_type": "code",
   "execution_count": 34,
   "metadata": {},
   "outputs": [],
   "source": [
    "def gen_dataset(corpus, share, total, target):\n",
    "    splitted_files = split_files(corpus, share)\n",
    "    for name, subset_share in share.items():\n",
    "        gen_errors(splitted_files[name], corpus.checkstyle, os.path.join(target, name), int(subset_share*total))"
   ]
  },
  {
   "cell_type": "code",
   "execution_count": 35,
   "metadata": {},
   "outputs": [
    {
     "data": {
      "application/vnd.jupyter.widget-view+json": {
       "model_id": "7f24a922e6014ecf826c62d33b7e7bc9",
       "version_major": 2,
       "version_minor": 0
      },
      "text/plain": [
       "HBox(children=(IntProgress(value=0, max=8000), HTML(value='')))"
      ]
     },
     "metadata": {},
     "output_type": "display_data"
    },
    {
     "data": {
      "application/vnd.jupyter.widget-view+json": {
       "model_id": "aac38f4bea4d414ba910cec7431e9506",
       "version_major": 2,
       "version_minor": 0
      },
      "text/plain": [
       "HBox(children=(IntProgress(value=0, max=500), HTML(value='')))"
      ]
     },
     "metadata": {},
     "output_type": "display_data"
    },
    {
     "data": {
      "application/vnd.jupyter.widget-view+json": {
       "model_id": "6e327a8dc99a4baa94d672159b47f0cd",
       "version_major": 2,
       "version_minor": 0
      },
      "text/plain": [
       "HBox(children=(IntProgress(value=0, max=500), HTML(value='')))"
      ]
     },
     "metadata": {},
     "output_type": "display_data"
    },
    {
     "data": {
      "application/vnd.jupyter.widget-view+json": {
       "model_id": "55552681755945f88eab1527160c7de1",
       "version_major": 2,
       "version_minor": 0
      },
      "text/plain": [
       "HBox(children=(IntProgress(value=0, max=500), HTML(value='')))"
      ]
     },
     "metadata": {},
     "output_type": "display_data"
    },
    {
     "data": {
      "application/vnd.jupyter.widget-view+json": {
       "model_id": "921f971c034b4ac99839a78b029bd8e5",
       "version_major": 2,
       "version_minor": 0
      },
      "text/plain": [
       "HBox(children=(IntProgress(value=0, max=500), HTML(value='')))"
      ]
     },
     "metadata": {},
     "output_type": "display_data"
    },
    {
     "data": {
      "application/vnd.jupyter.widget-view+json": {
       "model_id": "4e9080c8887146b280362031daac1fb1",
       "version_major": 2,
       "version_minor": 0
      },
      "text/plain": [
       "HBox(children=(IntProgress(value=0, max=500), HTML(value='')))"
      ]
     },
     "metadata": {},
     "output_type": "display_data"
    },
    {
     "data": {
      "application/vnd.jupyter.widget-view+json": {
       "model_id": "c6e11261f8bc47959e1a5e70f0b53a83",
       "version_major": 2,
       "version_minor": 0
      },
      "text/plain": [
       "HBox(children=(IntProgress(value=0, max=500), HTML(value='')))"
      ]
     },
     "metadata": {},
     "output_type": "display_data"
    },
    {
     "data": {
      "application/vnd.jupyter.widget-view+json": {
       "model_id": "f0ed370f7ad14da6b9331718c56d313f",
       "version_major": 2,
       "version_minor": 0
      },
      "text/plain": [
       "HBox(children=(IntProgress(value=0, max=500), HTML(value='')))"
      ]
     },
     "metadata": {},
     "output_type": "display_data"
    },
    {
     "data": {
      "application/vnd.jupyter.widget-view+json": {
       "model_id": "f40f5a20847a4cffbbf52e0d739cb023",
       "version_major": 2,
       "version_minor": 0
      },
      "text/plain": [
       "HBox(children=(IntProgress(value=0, max=500), HTML(value='')))"
      ]
     },
     "metadata": {},
     "output_type": "display_data"
    },
    {
     "data": {
      "application/vnd.jupyter.widget-view+json": {
       "model_id": "f566c9d9c7304dd0a07e95f4624fea42",
       "version_major": 2,
       "version_minor": 0
      },
      "text/plain": [
       "HBox(children=(IntProgress(value=0, max=500), HTML(value='')))"
      ]
     },
     "metadata": {},
     "output_type": "display_data"
    },
    {
     "data": {
      "application/vnd.jupyter.widget-view+json": {
       "model_id": "51919a501038456581ccbd00d8a89f39",
       "version_major": 2,
       "version_minor": 0
      },
      "text/plain": [
       "HBox(children=(IntProgress(value=0, max=500), HTML(value='')))"
      ]
     },
     "metadata": {},
     "output_type": "display_data"
    },
    {
     "data": {
      "application/vnd.jupyter.widget-view+json": {
       "model_id": "7f31ef2ae5384f508fa1b7c375030bf9",
       "version_major": 2,
       "version_minor": 0
      },
      "text/plain": [
       "HBox(children=(IntProgress(value=0, max=500), HTML(value='')))"
      ]
     },
     "metadata": {},
     "output_type": "display_data"
    },
    {
     "data": {
      "application/vnd.jupyter.widget-view+json": {
       "model_id": "94be2c47c28b49899eff411bf6b8af70",
       "version_major": 2,
       "version_minor": 0
      },
      "text/plain": [
       "HBox(children=(IntProgress(value=0, max=500), HTML(value='')))"
      ]
     },
     "metadata": {},
     "output_type": "display_data"
    },
    {
     "data": {
      "application/vnd.jupyter.widget-view+json": {
       "model_id": "f2d30115916147569ad6761646c043b7",
       "version_major": 2,
       "version_minor": 0
      },
      "text/plain": [
       "HBox(children=(IntProgress(value=0, max=500), HTML(value='')))"
      ]
     },
     "metadata": {},
     "output_type": "display_data"
    },
    {
     "data": {
      "application/vnd.jupyter.widget-view+json": {
       "model_id": "240a7e20cf2b4d0c88db938e0f0cfdf0",
       "version_major": 2,
       "version_minor": 0
      },
      "text/plain": [
       "HBox(children=(IntProgress(value=0, max=500), HTML(value='')))"
      ]
     },
     "metadata": {},
     "output_type": "display_data"
    },
    {
     "data": {
      "application/vnd.jupyter.widget-view+json": {
       "model_id": "b5ed3731835246d08ff6fde556397233",
       "version_major": 2,
       "version_minor": 0
      },
      "text/plain": [
       "HBox(children=(IntProgress(value=0, max=500), HTML(value='')))"
      ]
     },
     "metadata": {},
     "output_type": "display_data"
    },
    {
     "data": {
      "application/vnd.jupyter.widget-view+json": {
       "model_id": "699a5c70b92044d89454ec62d7d92019",
       "version_major": 2,
       "version_minor": 0
      },
      "text/plain": [
       "HBox(children=(IntProgress(value=0, max=500), HTML(value='')))"
      ]
     },
     "metadata": {},
     "output_type": "display_data"
    },
    {
     "data": {
      "application/vnd.jupyter.widget-view+json": {
       "model_id": "c9868802a18d45588ae88f195495e979",
       "version_major": 2,
       "version_minor": 0
      },
      "text/plain": [
       "HBox(children=(IntProgress(value=0, max=500), HTML(value='')))"
      ]
     },
     "metadata": {},
     "output_type": "display_data"
    },
    {
     "data": {
      "application/vnd.jupyter.widget-view+json": {
       "model_id": "e35d9948eec64c6fba2389f8280c8010",
       "version_major": 2,
       "version_minor": 0
      },
      "text/plain": [
       "HBox(children=(IntProgress(value=0, max=500), HTML(value='')))"
      ]
     },
     "metadata": {},
     "output_type": "display_data"
    },
    {
     "data": {
      "application/vnd.jupyter.widget-view+json": {
       "model_id": "3574519dd5e54f5f9496ceae537c2f61",
       "version_major": 2,
       "version_minor": 0
      },
      "text/plain": [
       "HBox(children=(IntProgress(value=0, max=500), HTML(value='')))"
      ]
     },
     "metadata": {},
     "output_type": "display_data"
    },
    {
     "data": {
      "application/vnd.jupyter.widget-view+json": {
       "model_id": "e3f9077c6cce416bb12a783e2b5784c9",
       "version_major": 2,
       "version_minor": 0
      },
      "text/plain": [
       "HBox(children=(IntProgress(value=0, max=500), HTML(value='')))"
      ]
     },
     "metadata": {},
     "output_type": "display_data"
    },
    {
     "data": {
      "application/vnd.jupyter.widget-view+json": {
       "model_id": "eaf355a2f80a4620aa2fed0d649ddf1b",
       "version_major": 2,
       "version_minor": 0
      },
      "text/plain": [
       "HBox(children=(IntProgress(value=0, max=500), HTML(value='')))"
      ]
     },
     "metadata": {},
     "output_type": "display_data"
    },
    {
     "data": {
      "application/vnd.jupyter.widget-view+json": {
       "model_id": "60d709e549f94212b39f724bed76f1be",
       "version_major": 2,
       "version_minor": 0
      },
      "text/plain": [
       "HBox(children=(IntProgress(value=0, max=500), HTML(value='')))"
      ]
     },
     "metadata": {},
     "output_type": "display_data"
    },
    {
     "data": {
      "application/vnd.jupyter.widget-view+json": {
       "model_id": "bf024cbe9272482eb225fcb238b7fb69",
       "version_major": 2,
       "version_minor": 0
      },
      "text/plain": [
       "HBox(children=(IntProgress(value=0, max=500), HTML(value='')))"
      ]
     },
     "metadata": {},
     "output_type": "display_data"
    },
    {
     "data": {
      "application/vnd.jupyter.widget-view+json": {
       "model_id": "eecb2ca8413e4fb9916f6bf4a0fd1b7d",
       "version_major": 2,
       "version_minor": 0
      },
      "text/plain": [
       "HBox(children=(IntProgress(value=0, max=500), HTML(value='')))"
      ]
     },
     "metadata": {},
     "output_type": "display_data"
    },
    {
     "data": {
      "application/vnd.jupyter.widget-view+json": {
       "model_id": "1d9ab9643a2e4a1785b4d15a4b4eb37d",
       "version_major": 2,
       "version_minor": 0
      },
      "text/plain": [
       "HBox(children=(IntProgress(value=0, max=500), HTML(value='')))"
      ]
     },
     "metadata": {},
     "output_type": "display_data"
    },
    {
     "data": {
      "application/vnd.jupyter.widget-view+json": {
       "model_id": "89309022160945dfa5b6781654faf1f0",
       "version_major": 2,
       "version_minor": 0
      },
      "text/plain": [
       "HBox(children=(IntProgress(value=0, max=500), HTML(value='')))"
      ]
     },
     "metadata": {},
     "output_type": "display_data"
    },
    {
     "data": {
      "application/vnd.jupyter.widget-view+json": {
       "model_id": "fa3f16df83c0425b9c0288c529f868d3",
       "version_major": 2,
       "version_minor": 0
      },
      "text/plain": [
       "HBox(children=(IntProgress(value=0, max=500), HTML(value='')))"
      ]
     },
     "metadata": {},
     "output_type": "display_data"
    },
    {
     "data": {
      "application/vnd.jupyter.widget-view+json": {
       "model_id": "545dcc5b049044839fce64c517d7f014",
       "version_major": 2,
       "version_minor": 0
      },
      "text/plain": [
       "HBox(children=(IntProgress(value=0, max=500), HTML(value='')))"
      ]
     },
     "metadata": {},
     "output_type": "display_data"
    },
    {
     "data": {
      "application/vnd.jupyter.widget-view+json": {
       "model_id": "19d2dccebf434bdbb644254a7e5c95ce",
       "version_major": 2,
       "version_minor": 0
      },
      "text/plain": [
       "HBox(children=(IntProgress(value=0, max=500), HTML(value='')))"
      ]
     },
     "metadata": {},
     "output_type": "display_data"
    },
    {
     "data": {
      "application/vnd.jupyter.widget-view+json": {
       "model_id": "b8d2e1c2ecda43d1a8b60bcb91cfed33",
       "version_major": 2,
       "version_minor": 0
      },
      "text/plain": [
       "HBox(children=(IntProgress(value=0, max=500), HTML(value='')))"
      ]
     },
     "metadata": {},
     "output_type": "display_data"
    },
    {
     "data": {
      "application/vnd.jupyter.widget-view+json": {
       "model_id": "fb10703063f042ec9cf069db6d013186",
       "version_major": 2,
       "version_minor": 0
      },
      "text/plain": [
       "HBox(children=(IntProgress(value=0, max=500), HTML(value='')))"
      ]
     },
     "metadata": {},
     "output_type": "display_data"
    },
    {
     "data": {
      "application/vnd.jupyter.widget-view+json": {
       "model_id": "737a446ae52b46df90ca08beb6766f92",
       "version_major": 2,
       "version_minor": 0
      },
      "text/plain": [
       "HBox(children=(IntProgress(value=0, max=500), HTML(value='')))"
      ]
     },
     "metadata": {},
     "output_type": "display_data"
    },
    {
     "data": {
      "application/vnd.jupyter.widget-view+json": {
       "model_id": "6a0eb9d628f14871af063e819e54ddcc",
       "version_major": 2,
       "version_minor": 0
      },
      "text/plain": [
       "HBox(children=(IntProgress(value=0, max=500), HTML(value='')))"
      ]
     },
     "metadata": {},
     "output_type": "display_data"
    },
    {
     "data": {
      "application/vnd.jupyter.widget-view+json": {
       "model_id": "5e6e046dbef34690a84a25cb514f34b8",
       "version_major": 2,
       "version_minor": 0
      },
      "text/plain": [
       "HBox(children=(IntProgress(value=0, max=500), HTML(value='')))"
      ]
     },
     "metadata": {},
     "output_type": "display_data"
    },
    {
     "data": {
      "application/vnd.jupyter.widget-view+json": {
       "model_id": "7e6d84f0ac674636949520e0819e2ffb",
       "version_major": 2,
       "version_minor": 0
      },
      "text/plain": [
       "HBox(children=(IntProgress(value=0, max=500), HTML(value='')))"
      ]
     },
     "metadata": {},
     "output_type": "display_data"
    },
    {
     "data": {
      "application/vnd.jupyter.widget-view+json": {
       "model_id": "bc34c70036b54a6481143469efd90672",
       "version_major": 2,
       "version_minor": 0
      },
      "text/plain": [
       "HBox(children=(IntProgress(value=0, max=500), HTML(value='')))"
      ]
     },
     "metadata": {},
     "output_type": "display_data"
    },
    {
     "data": {
      "application/vnd.jupyter.widget-view+json": {
       "model_id": "da87cce3ec084fbe918f0317f4737ab5",
       "version_major": 2,
       "version_minor": 0
      },
      "text/plain": [
       "HBox(children=(IntProgress(value=0, max=500), HTML(value='')))"
      ]
     },
     "metadata": {},
     "output_type": "display_data"
    },
    {
     "data": {
      "application/vnd.jupyter.widget-view+json": {
       "model_id": "e81e36707a9b41d59a865d21ecfb8002",
       "version_major": 2,
       "version_minor": 0
      },
      "text/plain": [
       "HBox(children=(IntProgress(value=0, max=500), HTML(value='')))"
      ]
     },
     "metadata": {},
     "output_type": "display_data"
    },
    {
     "data": {
      "application/vnd.jupyter.widget-view+json": {
       "model_id": "8e37fca1fca34fab8d9cc82e25ea2bc9",
       "version_major": 2,
       "version_minor": 0
      },
      "text/plain": [
       "HBox(children=(IntProgress(value=0, max=500), HTML(value='')))"
      ]
     },
     "metadata": {},
     "output_type": "display_data"
    },
    {
     "data": {
      "application/vnd.jupyter.widget-view+json": {
       "model_id": "d8851f6eedf74ef18281cb672617c13c",
       "version_major": 2,
       "version_minor": 0
      },
      "text/plain": [
       "HBox(children=(IntProgress(value=0, max=500), HTML(value='')))"
      ]
     },
     "metadata": {},
     "output_type": "display_data"
    },
    {
     "data": {
      "application/vnd.jupyter.widget-view+json": {
       "model_id": "e20e52a8318944eb9b1318aeb080ca44",
       "version_major": 2,
       "version_minor": 0
      },
      "text/plain": [
       "HBox(children=(IntProgress(value=0, max=500), HTML(value='')))"
      ]
     },
     "metadata": {},
     "output_type": "display_data"
    },
    {
     "data": {
      "application/vnd.jupyter.widget-view+json": {
       "model_id": "b4505f536d864ea2a95c9b3b34123910",
       "version_major": 2,
       "version_minor": 0
      },
      "text/plain": [
       "HBox(children=(IntProgress(value=0, max=500), HTML(value='')))"
      ]
     },
     "metadata": {},
     "output_type": "display_data"
    },
    {
     "data": {
      "application/vnd.jupyter.widget-view+json": {
       "model_id": "2c248c990a554bbab05b6a8ee0536278",
       "version_major": 2,
       "version_minor": 0
      },
      "text/plain": [
       "HBox(children=(IntProgress(value=0, max=500), HTML(value='')))"
      ]
     },
     "metadata": {},
     "output_type": "display_data"
    },
    {
     "data": {
      "application/vnd.jupyter.widget-view+json": {
       "model_id": "bd8deca3892349da92cca2e8ce99a2ba",
       "version_major": 2,
       "version_minor": 0
      },
      "text/plain": [
       "HBox(children=(IntProgress(value=0, max=500), HTML(value='')))"
      ]
     },
     "metadata": {},
     "output_type": "display_data"
    },
    {
     "data": {
      "application/vnd.jupyter.widget-view+json": {
       "model_id": "ecd028c441214915929f282f5c3b94a0",
       "version_major": 2,
       "version_minor": 0
      },
      "text/plain": [
       "HBox(children=(IntProgress(value=0, max=500), HTML(value='')))"
      ]
     },
     "metadata": {},
     "output_type": "display_data"
    },
    {
     "data": {
      "application/vnd.jupyter.widget-view+json": {
       "model_id": "e5374c202c1d4593a68bc66af4058ffc",
       "version_major": 2,
       "version_minor": 0
      },
      "text/plain": [
       "HBox(children=(IntProgress(value=0, max=500), HTML(value='')))"
      ]
     },
     "metadata": {},
     "output_type": "display_data"
    },
    {
     "data": {
      "application/vnd.jupyter.widget-view+json": {
       "model_id": "840bc13fb7d9491b8b9f5bd5d40db69e",
       "version_major": 2,
       "version_minor": 0
      },
      "text/plain": [
       "HBox(children=(IntProgress(value=0, max=500), HTML(value='')))"
      ]
     },
     "metadata": {},
     "output_type": "display_data"
    },
    {
     "data": {
      "application/vnd.jupyter.widget-view+json": {
       "model_id": "07f09f594fcb4f36afde6957071b15ff",
       "version_major": 2,
       "version_minor": 0
      },
      "text/plain": [
       "HBox(children=(IntProgress(value=0, max=500), HTML(value='')))"
      ]
     },
     "metadata": {},
     "output_type": "display_data"
    },
    {
     "data": {
      "application/vnd.jupyter.widget-view+json": {
       "model_id": "6e6e52ad6f354d2995bdd8f9c09831e8",
       "version_major": 2,
       "version_minor": 0
      },
      "text/plain": [
       "HBox(children=(IntProgress(value=0, max=500), HTML(value='')))"
      ]
     },
     "metadata": {},
     "output_type": "display_data"
    },
    {
     "data": {
      "application/vnd.jupyter.widget-view+json": {
       "model_id": "87d4b879dec742e7a92c61cb6c076a22",
       "version_major": 2,
       "version_minor": 0
      },
      "text/plain": [
       "HBox(children=(IntProgress(value=0, max=500), HTML(value='')))"
      ]
     },
     "metadata": {},
     "output_type": "display_data"
    },
    {
     "data": {
      "application/vnd.jupyter.widget-view+json": {
       "model_id": "ae50e776bd814596ae4c4db855500531",
       "version_major": 2,
       "version_minor": 0
      },
      "text/plain": [
       "HBox(children=(IntProgress(value=0, max=500), HTML(value='')))"
      ]
     },
     "metadata": {},
     "output_type": "display_data"
    },
    {
     "data": {
      "application/vnd.jupyter.widget-view+json": {
       "model_id": "737d0aff8480460e863fa7eeb5b26cc5",
       "version_major": 2,
       "version_minor": 0
      },
      "text/plain": [
       "HBox(children=(IntProgress(value=0, max=500), HTML(value='')))"
      ]
     },
     "metadata": {},
     "output_type": "display_data"
    },
    {
     "data": {
      "application/vnd.jupyter.widget-view+json": {
       "model_id": "d0ad885de6d645209c7012d210870403",
       "version_major": 2,
       "version_minor": 0
      },
      "text/plain": [
       "HBox(children=(IntProgress(value=0, max=500), HTML(value='')))"
      ]
     },
     "metadata": {},
     "output_type": "display_data"
    },
    {
     "name": "stdout",
     "output_type": "stream",
     "text": [
      "\n"
     ]
    },
    {
     "data": {
      "application/vnd.jupyter.widget-view+json": {
       "model_id": "7765e5570a874185886ec727c4f2c541",
       "version_major": 2,
       "version_minor": 0
      },
      "text/plain": [
       "HBox(children=(IntProgress(value=0, max=1000), HTML(value='')))"
      ]
     },
     "metadata": {},
     "output_type": "display_data"
    },
    {
     "data": {
      "application/vnd.jupyter.widget-view+json": {
       "model_id": "5c9407bf500b4d1c868aaca24fcfb40e",
       "version_major": 2,
       "version_minor": 0
      },
      "text/plain": [
       "HBox(children=(IntProgress(value=0, max=500), HTML(value='')))"
      ]
     },
     "metadata": {},
     "output_type": "display_data"
    },
    {
     "data": {
      "application/vnd.jupyter.widget-view+json": {
       "model_id": "111d9e22d35b42a89153e1abee10df4e",
       "version_major": 2,
       "version_minor": 0
      },
      "text/plain": [
       "HBox(children=(IntProgress(value=0, max=500), HTML(value='')))"
      ]
     },
     "metadata": {},
     "output_type": "display_data"
    },
    {
     "data": {
      "application/vnd.jupyter.widget-view+json": {
       "model_id": "cffe22127e2d411ebd8704f82c401ac1",
       "version_major": 2,
       "version_minor": 0
      },
      "text/plain": [
       "HBox(children=(IntProgress(value=0, max=500), HTML(value='')))"
      ]
     },
     "metadata": {},
     "output_type": "display_data"
    },
    {
     "data": {
      "application/vnd.jupyter.widget-view+json": {
       "model_id": "8f7dcc89946a446b836bb1b95bcaa853",
       "version_major": 2,
       "version_minor": 0
      },
      "text/plain": [
       "HBox(children=(IntProgress(value=0, max=500), HTML(value='')))"
      ]
     },
     "metadata": {},
     "output_type": "display_data"
    },
    {
     "data": {
      "application/vnd.jupyter.widget-view+json": {
       "model_id": "89b9d0179fd04e6ba69ab257e676a2ab",
       "version_major": 2,
       "version_minor": 0
      },
      "text/plain": [
       "HBox(children=(IntProgress(value=0, max=500), HTML(value='')))"
      ]
     },
     "metadata": {},
     "output_type": "display_data"
    },
    {
     "data": {
      "application/vnd.jupyter.widget-view+json": {
       "model_id": "9293d644c65a4f66ad2e5e6041cb5f84",
       "version_major": 2,
       "version_minor": 0
      },
      "text/plain": [
       "HBox(children=(IntProgress(value=0, max=500), HTML(value='')))"
      ]
     },
     "metadata": {},
     "output_type": "display_data"
    },
    {
     "data": {
      "application/vnd.jupyter.widget-view+json": {
       "model_id": "27c63efe96f34d8280a09913a2a30080",
       "version_major": 2,
       "version_minor": 0
      },
      "text/plain": [
       "HBox(children=(IntProgress(value=0, max=500), HTML(value='')))"
      ]
     },
     "metadata": {},
     "output_type": "display_data"
    },
    {
     "name": "stdout",
     "output_type": "stream",
     "text": [
      "\n"
     ]
    },
    {
     "data": {
      "application/vnd.jupyter.widget-view+json": {
       "model_id": "bea25ed5d3e749ba86b31c84488d9671",
       "version_major": 2,
       "version_minor": 0
      },
      "text/plain": [
       "HBox(children=(IntProgress(value=0, max=1000), HTML(value='')))"
      ]
     },
     "metadata": {},
     "output_type": "display_data"
    },
    {
     "data": {
      "application/vnd.jupyter.widget-view+json": {
       "model_id": "6ffd54f03af54492acab74f20b42aa9a",
       "version_major": 2,
       "version_minor": 0
      },
      "text/plain": [
       "HBox(children=(IntProgress(value=0, max=500), HTML(value='')))"
      ]
     },
     "metadata": {},
     "output_type": "display_data"
    },
    {
     "data": {
      "application/vnd.jupyter.widget-view+json": {
       "model_id": "e1d8c604b75f487e88fb2a1520671c76",
       "version_major": 2,
       "version_minor": 0
      },
      "text/plain": [
       "HBox(children=(IntProgress(value=0, max=500), HTML(value='')))"
      ]
     },
     "metadata": {},
     "output_type": "display_data"
    },
    {
     "data": {
      "application/vnd.jupyter.widget-view+json": {
       "model_id": "afa27f5739fb4cddb85a8d9fb4059a21",
       "version_major": 2,
       "version_minor": 0
      },
      "text/plain": [
       "HBox(children=(IntProgress(value=0, max=500), HTML(value='')))"
      ]
     },
     "metadata": {},
     "output_type": "display_data"
    },
    {
     "data": {
      "application/vnd.jupyter.widget-view+json": {
       "model_id": "acffaca320344695b97af0cdcbe76978",
       "version_major": 2,
       "version_minor": 0
      },
      "text/plain": [
       "HBox(children=(IntProgress(value=0, max=500), HTML(value='')))"
      ]
     },
     "metadata": {},
     "output_type": "display_data"
    },
    {
     "data": {
      "application/vnd.jupyter.widget-view+json": {
       "model_id": "c45c90ad1b714c8082e638959e6ca693",
       "version_major": 2,
       "version_minor": 0
      },
      "text/plain": [
       "HBox(children=(IntProgress(value=0, max=500), HTML(value='')))"
      ]
     },
     "metadata": {},
     "output_type": "display_data"
    },
    {
     "data": {
      "application/vnd.jupyter.widget-view+json": {
       "model_id": "ebcf8cb8474040908176bd4133cf89da",
       "version_major": 2,
       "version_minor": 0
      },
      "text/plain": [
       "HBox(children=(IntProgress(value=0, max=500), HTML(value='')))"
      ]
     },
     "metadata": {},
     "output_type": "display_data"
    },
    {
     "data": {
      "application/vnd.jupyter.widget-view+json": {
       "model_id": "1cb7d31de9fb41519519dfac788a2f31",
       "version_major": 2,
       "version_minor": 0
      },
      "text/plain": [
       "HBox(children=(IntProgress(value=0, max=500), HTML(value='')))"
      ]
     },
     "metadata": {},
     "output_type": "display_data"
    },
    {
     "name": "stdout",
     "output_type": "stream",
     "text": [
      "\n"
     ]
    }
   ],
   "source": [
    "gen_dataset(corpus, share, 10000, './tmp/dataset/protocol1/' + corpus_name + '_old_new');"
   ]
  },
  {
   "cell_type": "code",
   "execution_count": 62,
   "metadata": {},
   "outputs": [
    {
     "data": {
      "text/plain": [
       "{'learning': ['../corpora/picasso-corpus/data/9/SampleContactsActivity.java',\n",
       "  '../corpora/picasso-corpus/data/28/Callback.java',\n",
       "  '../corpora/picasso-corpus/data/40/PicassoProvider.java',\n",
       "  '../corpora/picasso-corpus/data/59/OkHttp3DownloaderTest.java',\n",
       "  '../corpora/picasso-corpus/data/19/AssetRequestHandler.java',\n",
       "  '../corpora/picasso-corpus/data/7/SampleScrollListener.java',\n",
       "  '../corpora/picasso-corpus/data/23/GetAction.java',\n",
       "  '../corpora/picasso-corpus/data/34/OkHttp3Downloader.java',\n",
       "  '../corpora/picasso-corpus/data/47/Stats.java',\n",
       "  '../corpora/picasso-corpus/data/31/MarkableInputStream.java',\n",
       "  '../corpora/picasso-corpus/data/53/UtilsTest.java',\n",
       "  '../corpora/picasso-corpus/data/50/Cache.java',\n",
       "  '../corpora/picasso-corpus/data/36/PicassoExecutorService.java',\n",
       "  '../corpora/picasso-corpus/data/54/TargetActionTest.java',\n",
       "  '../corpora/picasso-corpus/data/2/SampleGalleryActivity.java',\n",
       "  '../corpora/picasso-corpus/data/32/Downloader.java',\n",
       "  '../corpora/picasso-corpus/data/3/SquaredImageView.java',\n",
       "  '../corpora/picasso-corpus/data/61/DispatcherTest.java',\n",
       "  '../corpora/picasso-corpus/data/43/Action.java',\n",
       "  '../corpora/picasso-corpus/data/46/FileRequestHandler.java',\n",
       "  '../corpora/picasso-corpus/data/37/BitmapHunter.java',\n",
       "  '../corpora/picasso-corpus/data/16/ResourceRequestHandler.java',\n",
       "  '../corpora/picasso-corpus/data/24/NetworkPolicy.java',\n",
       "  '../corpora/picasso-corpus/data/12/SampleListDetailAdapter.java',\n",
       "  '../corpora/picasso-corpus/data/58/RemoteViewsActionTest.java',\n",
       "  '../corpora/picasso-corpus/data/11/SampleContactsAdapter.java',\n",
       "  '../corpora/picasso-corpus/data/30/ContentStreamRequestHandler.java',\n",
       "  '../corpora/picasso-corpus/data/5/SampleGridViewActivity.java',\n",
       "  '../corpora/picasso-corpus/data/56/MemoryPolicyTest.java',\n",
       "  '../corpora/picasso-corpus/data/21/RequestCreator.java',\n",
       "  '../corpora/picasso-corpus/data/8/SampleListDetailActivity.java',\n",
       "  '../corpora/picasso-corpus/data/1/PollexorRequestTransformerTest.java',\n",
       "  '../corpora/picasso-corpus/data/6/SampleGridViewAdapter.java',\n",
       "  '../corpora/picasso-corpus/data/49/PicassoDrawable.java',\n",
       "  '../corpora/picasso-corpus/data/20/ImageViewAction.java',\n",
       "  '../corpora/picasso-corpus/data/25/NetworkRequestHandler.java',\n",
       "  '../corpora/picasso-corpus/data/13/SampleWidgetProvider.java',\n",
       "  '../corpora/picasso-corpus/data/55/Shadows.java',\n",
       "  '../corpora/picasso-corpus/data/29/Picasso.java',\n",
       "  '../corpora/picasso-corpus/data/27/LruCache.java',\n",
       "  '../corpora/picasso-corpus/data/42/RemoteViewsAction.java',\n",
       "  '../corpora/picasso-corpus/data/18/ContactsPhotoRequestHandler.java',\n",
       "  '../corpora/picasso-corpus/data/39/Transformation.java',\n",
       "  '../corpora/picasso-corpus/data/52/AssetRequestHandlerTest.java',\n",
       "  '../corpora/picasso-corpus/data/57/RequestHandlerTest.java',\n",
       "  '../corpora/picasso-corpus/data/0/PollexorRequestTransformer.java',\n",
       "  '../corpora/picasso-corpus/data/14/PicassoSampleAdapter.java',\n",
       "  '../corpora/picasso-corpus/data/35/StatsSnapshot.java',\n",
       "  '../corpora/picasso-corpus/data/15/GrayscaleTransformation.java'],\n",
       " 'validation': ['../corpora/picasso-corpus/data/38/Target.java',\n",
       "  '../corpora/picasso-corpus/data/51/Request.java',\n",
       "  '../corpora/picasso-corpus/data/44/FetchAction.java',\n",
       "  '../corpora/picasso-corpus/data/10/Data.java',\n",
       "  '../corpora/picasso-corpus/data/45/MediaStoreRequestHandler.java',\n",
       "  '../corpora/picasso-corpus/data/48/TargetAction.java'],\n",
       " 'testing': ['../corpora/picasso-corpus/data/17/Utils.java',\n",
       "  '../corpora/picasso-corpus/data/41/Dispatcher.java',\n",
       "  '../corpora/picasso-corpus/data/33/RequestHandler.java',\n",
       "  '../corpora/picasso-corpus/data/4/PicassoSampleActivity.java',\n",
       "  '../corpora/picasso-corpus/data/22/MemoryPolicy.java',\n",
       "  '../corpora/picasso-corpus/data/26/DeferredRequestCreator.java',\n",
       "  '../corpora/picasso-corpus/data/60/TestTransformation.java']}"
      ]
     },
     "execution_count": 62,
     "metadata": {},
     "output_type": "execute_result"
    }
   ],
   "source": [
    "split_files(corpus, share)"
   ]
  },
  {
   "cell_type": "code",
   "execution_count": null,
   "metadata": {},
   "outputs": [],
   "source": []
  }
 ],
 "metadata": {
  "kernelspec": {
   "display_name": "Python 3",
   "language": "python",
   "name": "python3"
  },
  "language_info": {
   "codemirror_mode": {
    "name": "ipython",
    "version": 3
   },
   "file_extension": ".py",
   "mimetype": "text/x-python",
   "name": "python",
   "nbconvert_exporter": "python",
   "pygments_lexer": "ipython3",
   "version": "3.6.8"
  }
 },
 "nbformat": 4,
 "nbformat_minor": 2
}
